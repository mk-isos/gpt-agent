{
 "cells": [
  {
   "cell_type": "code",
   "execution_count": 1,
   "metadata": {},
   "outputs": [
    {
     "name": "stdout",
     "output_type": "stream",
     "text": [
      "Collecting langgraph\n",
      "  Downloading langgraph-0.4.3-py3-none-any.whl.metadata (7.9 kB)\n",
      "Requirement already satisfied: langchain-core>=0.1 in /Users/moonki/Desktop/gpt-agent/gpt_agent/venv/lib/python3.12/site-packages (from langgraph) (0.3.59)\n",
      "Collecting langgraph-checkpoint<3.0.0,>=2.0.10 (from langgraph)\n",
      "  Downloading langgraph_checkpoint-2.0.25-py3-none-any.whl.metadata (4.6 kB)\n",
      "Collecting langgraph-prebuilt>=0.1.8 (from langgraph)\n",
      "  Downloading langgraph_prebuilt-0.1.8-py3-none-any.whl.metadata (5.0 kB)\n",
      "Collecting langgraph-sdk>=0.1.42 (from langgraph)\n",
      "  Downloading langgraph_sdk-0.1.69-py3-none-any.whl.metadata (1.8 kB)\n",
      "Requirement already satisfied: pydantic>=2.7.4 in /Users/moonki/Desktop/gpt-agent/gpt_agent/venv/lib/python3.12/site-packages (from langgraph) (2.11.4)\n",
      "Collecting xxhash<4.0.0,>=3.5.0 (from langgraph)\n",
      "  Downloading xxhash-3.5.0-cp312-cp312-macosx_11_0_arm64.whl.metadata (12 kB)\n",
      "Collecting ormsgpack<2.0.0,>=1.8.0 (from langgraph-checkpoint<3.0.0,>=2.0.10->langgraph)\n",
      "  Downloading ormsgpack-1.9.1-cp312-cp312-macosx_10_12_x86_64.macosx_11_0_arm64.macosx_10_12_universal2.whl.metadata (43 kB)\n",
      "Requirement already satisfied: langsmith<0.4,>=0.1.125 in /Users/moonki/Desktop/gpt-agent/gpt_agent/venv/lib/python3.12/site-packages (from langchain-core>=0.1->langgraph) (0.3.42)\n",
      "Requirement already satisfied: tenacity!=8.4.0,<10.0.0,>=8.1.0 in /Users/moonki/Desktop/gpt-agent/gpt_agent/venv/lib/python3.12/site-packages (from langchain-core>=0.1->langgraph) (9.1.2)\n",
      "Requirement already satisfied: jsonpatch<2.0,>=1.33 in /Users/moonki/Desktop/gpt-agent/gpt_agent/venv/lib/python3.12/site-packages (from langchain-core>=0.1->langgraph) (1.33)\n",
      "Requirement already satisfied: PyYAML>=5.3 in /Users/moonki/Desktop/gpt-agent/gpt_agent/venv/lib/python3.12/site-packages (from langchain-core>=0.1->langgraph) (6.0.2)\n",
      "Requirement already satisfied: packaging<25,>=23.2 in /Users/moonki/Desktop/gpt-agent/gpt_agent/venv/lib/python3.12/site-packages (from langchain-core>=0.1->langgraph) (24.2)\n",
      "Requirement already satisfied: typing-extensions>=4.7 in /Users/moonki/Desktop/gpt-agent/gpt_agent/venv/lib/python3.12/site-packages (from langchain-core>=0.1->langgraph) (4.13.2)\n",
      "Requirement already satisfied: jsonpointer>=1.9 in /Users/moonki/Desktop/gpt-agent/gpt_agent/venv/lib/python3.12/site-packages (from jsonpatch<2.0,>=1.33->langchain-core>=0.1->langgraph) (3.0.0)\n",
      "Requirement already satisfied: httpx<1,>=0.23.0 in /Users/moonki/Desktop/gpt-agent/gpt_agent/venv/lib/python3.12/site-packages (from langsmith<0.4,>=0.1.125->langchain-core>=0.1->langgraph) (0.28.1)\n",
      "Requirement already satisfied: orjson<4.0.0,>=3.9.14 in /Users/moonki/Desktop/gpt-agent/gpt_agent/venv/lib/python3.12/site-packages (from langsmith<0.4,>=0.1.125->langchain-core>=0.1->langgraph) (3.10.18)\n",
      "Requirement already satisfied: requests<3,>=2 in /Users/moonki/Desktop/gpt-agent/gpt_agent/venv/lib/python3.12/site-packages (from langsmith<0.4,>=0.1.125->langchain-core>=0.1->langgraph) (2.32.3)\n",
      "Requirement already satisfied: requests-toolbelt<2.0.0,>=1.0.0 in /Users/moonki/Desktop/gpt-agent/gpt_agent/venv/lib/python3.12/site-packages (from langsmith<0.4,>=0.1.125->langchain-core>=0.1->langgraph) (1.0.0)\n",
      "Requirement already satisfied: zstandard<0.24.0,>=0.23.0 in /Users/moonki/Desktop/gpt-agent/gpt_agent/venv/lib/python3.12/site-packages (from langsmith<0.4,>=0.1.125->langchain-core>=0.1->langgraph) (0.23.0)\n",
      "Requirement already satisfied: anyio in /Users/moonki/Desktop/gpt-agent/gpt_agent/venv/lib/python3.12/site-packages (from httpx<1,>=0.23.0->langsmith<0.4,>=0.1.125->langchain-core>=0.1->langgraph) (4.9.0)\n",
      "Requirement already satisfied: certifi in /Users/moonki/Desktop/gpt-agent/gpt_agent/venv/lib/python3.12/site-packages (from httpx<1,>=0.23.0->langsmith<0.4,>=0.1.125->langchain-core>=0.1->langgraph) (2025.4.26)\n",
      "Requirement already satisfied: httpcore==1.* in /Users/moonki/Desktop/gpt-agent/gpt_agent/venv/lib/python3.12/site-packages (from httpx<1,>=0.23.0->langsmith<0.4,>=0.1.125->langchain-core>=0.1->langgraph) (1.0.9)\n",
      "Requirement already satisfied: idna in /Users/moonki/Desktop/gpt-agent/gpt_agent/venv/lib/python3.12/site-packages (from httpx<1,>=0.23.0->langsmith<0.4,>=0.1.125->langchain-core>=0.1->langgraph) (3.10)\n",
      "Requirement already satisfied: h11>=0.16 in /Users/moonki/Desktop/gpt-agent/gpt_agent/venv/lib/python3.12/site-packages (from httpcore==1.*->httpx<1,>=0.23.0->langsmith<0.4,>=0.1.125->langchain-core>=0.1->langgraph) (0.16.0)\n",
      "Requirement already satisfied: annotated-types>=0.6.0 in /Users/moonki/Desktop/gpt-agent/gpt_agent/venv/lib/python3.12/site-packages (from pydantic>=2.7.4->langgraph) (0.7.0)\n",
      "Requirement already satisfied: pydantic-core==2.33.2 in /Users/moonki/Desktop/gpt-agent/gpt_agent/venv/lib/python3.12/site-packages (from pydantic>=2.7.4->langgraph) (2.33.2)\n",
      "Requirement already satisfied: typing-inspection>=0.4.0 in /Users/moonki/Desktop/gpt-agent/gpt_agent/venv/lib/python3.12/site-packages (from pydantic>=2.7.4->langgraph) (0.4.0)\n",
      "Requirement already satisfied: charset-normalizer<4,>=2 in /Users/moonki/Desktop/gpt-agent/gpt_agent/venv/lib/python3.12/site-packages (from requests<3,>=2->langsmith<0.4,>=0.1.125->langchain-core>=0.1->langgraph) (3.4.2)\n",
      "Requirement already satisfied: urllib3<3,>=1.21.1 in /Users/moonki/Desktop/gpt-agent/gpt_agent/venv/lib/python3.12/site-packages (from requests<3,>=2->langsmith<0.4,>=0.1.125->langchain-core>=0.1->langgraph) (2.4.0)\n",
      "Requirement already satisfied: sniffio>=1.1 in /Users/moonki/Desktop/gpt-agent/gpt_agent/venv/lib/python3.12/site-packages (from anyio->httpx<1,>=0.23.0->langsmith<0.4,>=0.1.125->langchain-core>=0.1->langgraph) (1.3.1)\n",
      "Downloading langgraph-0.4.3-py3-none-any.whl (151 kB)\n",
      "Downloading langgraph_checkpoint-2.0.25-py3-none-any.whl (42 kB)\n",
      "Downloading ormsgpack-1.9.1-cp312-cp312-macosx_10_12_x86_64.macosx_11_0_arm64.macosx_10_12_universal2.whl (383 kB)\n",
      "Downloading xxhash-3.5.0-cp312-cp312-macosx_11_0_arm64.whl (30 kB)\n",
      "Downloading langgraph_prebuilt-0.1.8-py3-none-any.whl (25 kB)\n",
      "Downloading langgraph_sdk-0.1.69-py3-none-any.whl (48 kB)\n",
      "Installing collected packages: xxhash, ormsgpack, langgraph-sdk, langgraph-checkpoint, langgraph-prebuilt, langgraph\n",
      "\u001b[2K   \u001b[90m━━━━━━━━━━━━━━━━━━━━━━━━━━━━━━━━━━━━━━━━\u001b[0m \u001b[32m6/6\u001b[0m [langgraph]\n",
      "\u001b[1A\u001b[2KSuccessfully installed langgraph-0.4.3 langgraph-checkpoint-2.0.25 langgraph-prebuilt-0.1.8 langgraph-sdk-0.1.69 ormsgpack-1.9.1 xxhash-3.5.0\n",
      "Note: you may need to restart the kernel to use updated packages.\n"
     ]
    }
   ],
   "source": [
    "%pip install langgraph"
   ]
  },
  {
   "cell_type": "code",
   "execution_count": 3,
   "metadata": {},
   "outputs": [
    {
     "name": "stdout",
     "output_type": "stream",
     "text": [
      "content='안녕하세요! 어떻게 도와드릴까요?' additional_kwargs={'refusal': None} response_metadata={'token_usage': {'completion_tokens': 11, 'prompt_tokens': 10, 'total_tokens': 21, 'completion_tokens_details': {'accepted_prediction_tokens': 0, 'audio_tokens': 0, 'reasoning_tokens': 0, 'rejected_prediction_tokens': 0}, 'prompt_tokens_details': {'audio_tokens': 0, 'cached_tokens': 0}}, 'model_name': 'gpt-4o-mini-2024-07-18', 'system_fingerprint': 'fp_0392822090', 'id': 'chatcmpl-BX0YJ3stDXREmkTJmEeYUH2HL2dNd', 'service_tier': 'default', 'finish_reason': 'stop', 'logprobs': None} id='run--2af66ec0-178d-46be-9c3b-d92534e975d0-0' usage_metadata={'input_tokens': 10, 'output_tokens': 11, 'total_tokens': 21, 'input_token_details': {'audio': 0, 'cache_read': 0}, 'output_token_details': {'audio': 0, 'reasoning': 0}}\n"
     ]
    }
   ],
   "source": [
    "from langchain_openai import ChatOpenAI\n",
    "from dotenv import load_dotenv\n",
    "import os\n",
    "\n",
    "load_dotenv()  # .env 파일 로드\n",
    "api_key = os.getenv(\"OPENAI_API_KEY\")\n",
    "\n",
    "model = ChatOpenAI(\n",
    "    model=\"gpt-4o-mini\",\n",
    "    api_key=api_key  # 환경 변수에서 가져온 키 전달\n",
    ")\n",
    "\n",
    "response = model.invoke(\"안녕하세요!\")\n",
    "print(response)\n"
   ]
  },
  {
   "cell_type": "code",
   "execution_count": 5,
   "metadata": {},
   "outputs": [],
   "source": [
    "from typing import Annotated # annotated는 타입 힌트를 사용할 때 사용하는 함수\n",
    "from typing_extensions import TypedDict # TypedDict는 딕셔너리 타입을 정의할 때 사용하는 함수\n",
    "\n",
    "from langgraph.graph import StateGraph, START, END\n",
    "from langgraph.graph.message import add_messages\n",
    "\n",
    "class State(TypedDict):\t#①\n",
    "    \"\"\"\n",
    "    State 클래스는 TypedDict를 상속받습니다.\n",
    "\n",
    "    속성:\n",
    "        messages (Annotated[list[str], add_messages]): 메시지들은 \"list\" 타입을 가집니다.   #②\n",
    "       'add_messages' 함수는 이 상태 키가 어떻게 업데이트되어야 하는지를 정의합니다.  #③\n",
    "        (이 경우, 메시지를 덮어쓰는 대신 리스트에 추가합니다)\n",
    "    \"\"\"\n",
    "    messages: Annotated[list[str], add_messages]\t#②\n",
    "\n",
    "# StateGraph 클래스를 사용하여 State 타입의 그래프를 생성합니다.\n",
    "graph_builder = StateGraph(State) #④"
   ]
  },
  {
   "cell_type": "code",
   "execution_count": 6,
   "metadata": {},
   "outputs": [
    {
     "data": {
      "text/plain": [
       "<langgraph.graph.state.StateGraph at 0x131916ae0>"
      ]
     },
     "execution_count": 6,
     "metadata": {},
     "output_type": "execute_result"
    }
   ],
   "source": [
    "def generate(state: State):\t#①\n",
    "    \"\"\"\n",
    "    주어진 상태를 기반으로 챗봇의 응답 메시지를 생성합니다.\n",
    "\n",
    "    매개변수:\n",
    "    state (State): 현재 대화 상태를 나타내는 객체로, 이전 메시지들이 포함되어 있습니다.\n",
    "\t\t\n",
    "    반환값:\n",
    "    dict: 모델이 생성한 응답 메시지를 포함하는 딕셔너리. \n",
    "          형식은 {\"messages\": [응답 메시지]}입니다.\n",
    "    \"\"\" \n",
    "    return {\"messages\": [model.invoke(state[\"messages\"])]}\t#②\n",
    "\n",
    "graph_builder.add_node(\"generate\", generate)\t#③"
   ]
  },
  {
   "cell_type": "code",
   "execution_count": 7,
   "metadata": {},
   "outputs": [],
   "source": [
    "graph_builder.add_edge(START, \"generate\")\n",
    "graph_builder.add_edge(\"generate\", END)    \n",
    "\n",
    "graph = graph_builder.compile()"
   ]
  },
  {
   "cell_type": "code",
   "execution_count": 8,
   "metadata": {},
   "outputs": [
    {
     "data": {
      "image/png": "[encoded data removed]",
      "text/plain": [
       "<IPython.core.display.Image object>"
      ]
     },
     "metadata": {},
     "output_type": "display_data"
    }
   ],
   "source": [
    "from IPython.display import Image, display\n",
    "\n",
    "try:\n",
    "    display(Image(graph.get_graph().draw_mermaid_png()))\n",
    "except Exception: \n",
    "    pass"
   ]
  },
  {
   "cell_type": "code",
   "execution_count": 9,
   "metadata": {},
   "outputs": [
    {
     "name": "stdout",
     "output_type": "stream",
     "text": [
      "<class 'langgraph.pregel.io.AddableValuesDict'>\n"
     ]
    },
    {
     "data": {
      "text/plain": [
       "{'messages': [HumanMessage(content='안녕하세요! 저는 김문기입니다', additional_kwargs={}, response_metadata={}, id='dcec1cf8-d9dd-4486-8a5e-2e6e77146803'),\n",
       "  AIMessage(content='안녕하세요, 김문기님! 어떻게 도와드릴까요?', additional_kwargs={'refusal': None}, response_metadata={'token_usage': {'completion_tokens': 16, 'prompt_tokens': 15, 'total_tokens': 31, 'completion_tokens_details': {'accepted_prediction_tokens': 0, 'audio_tokens': 0, 'reasoning_tokens': 0, 'rejected_prediction_tokens': 0}, 'prompt_tokens_details': {'audio_tokens': 0, 'cached_tokens': 0}}, 'model_name': 'gpt-4o-mini-2024-07-18', 'system_fingerprint': 'fp_dbaca60df0', 'id': 'chatcmpl-BX0acNIUK6TqnD8k9LlHjrJaikTsu', 'service_tier': 'default', 'finish_reason': 'stop', 'logprobs': None}, id='run--814177b3-0a0a-405e-969e-5352fbf1f9d2-0', usage_metadata={'input_tokens': 15, 'output_tokens': 16, 'total_tokens': 31, 'input_token_details': {'audio': 0, 'cache_read': 0}, 'output_token_details': {'audio': 0, 'reasoning': 0}})]}"
      ]
     },
     "execution_count": 9,
     "metadata": {},
     "output_type": "execute_result"
    }
   ],
   "source": [
    "\n",
    "response = graph.invoke({\"messages\": [\"안녕하세요! 저는 김문기입니다\"]})\n",
    "\n",
    "print(type(response))\n",
    "response"
   ]
  },
  {
   "cell_type": "code",
   "execution_count": 10,
   "metadata": {},
   "outputs": [
    {
     "data": {
      "text/plain": [
       "{'messages': [HumanMessage(content='안녕하세요! 저는 김문기입니다', additional_kwargs={}, response_metadata={}, id='dcec1cf8-d9dd-4486-8a5e-2e6e77146803'),\n",
       "  AIMessage(content='안녕하세요, 김문기님! 어떻게 도와드릴까요?', additional_kwargs={'refusal': None}, response_metadata={'token_usage': {'completion_tokens': 16, 'prompt_tokens': 15, 'total_tokens': 31, 'completion_tokens_details': {'accepted_prediction_tokens': 0, 'audio_tokens': 0, 'reasoning_tokens': 0, 'rejected_prediction_tokens': 0}, 'prompt_tokens_details': {'audio_tokens': 0, 'cached_tokens': 0}}, 'model_name': 'gpt-4o-mini-2024-07-18', 'system_fingerprint': 'fp_dbaca60df0', 'id': 'chatcmpl-BX0acNIUK6TqnD8k9LlHjrJaikTsu', 'service_tier': 'default', 'finish_reason': 'stop', 'logprobs': None}, id='run--814177b3-0a0a-405e-969e-5352fbf1f9d2-0', usage_metadata={'input_tokens': 15, 'output_tokens': 16, 'total_tokens': 31, 'input_token_details': {'audio': 0, 'cache_read': 0}, 'output_token_details': {'audio': 0, 'reasoning': 0}}),\n",
       "  HumanMessage(content='제 이름을 아시나요?', additional_kwargs={}, response_metadata={}, id='55702878-350b-48b2-983d-28a6b0213199'),\n",
       "  AIMessage(content='네, 김문기님이라고 말씀하셨습니다. 더 궁금한 점이나 이야기하고 싶은 것이 있으신가요?', additional_kwargs={'refusal': None}, response_metadata={'token_usage': {'completion_tokens': 28, 'prompt_tokens': 45, 'total_tokens': 73, 'completion_tokens_details': {'accepted_prediction_tokens': 0, 'audio_tokens': 0, 'reasoning_tokens': 0, 'rejected_prediction_tokens': 0}, 'prompt_tokens_details': {'audio_tokens': 0, 'cached_tokens': 0}}, 'model_name': 'gpt-4o-mini-2024-07-18', 'system_fingerprint': 'fp_129a36352a', 'id': 'chatcmpl-BX0ajPh3RYuDEPNlitLxGI08knXPl', 'service_tier': 'default', 'finish_reason': 'stop', 'logprobs': None}, id='run--c6dee6e9-0874-4c63-9039-d7abc195f719-0', usage_metadata={'input_tokens': 45, 'output_tokens': 28, 'total_tokens': 73, 'input_token_details': {'audio': 0, 'cache_read': 0}, 'output_token_details': {'audio': 0, 'reasoning': 0}})]}"
      ]
     },
     "execution_count": 10,
     "metadata": {},
     "output_type": "execute_result"
    }
   ],
   "source": [
    "response[\"messages\"].append(\"제 이름을 아시나요?\")\n",
    "graph.invoke(response)"
   ]
  },
  {
   "cell_type": "code",
   "execution_count": 11,
   "metadata": {},
   "outputs": [
    {
     "name": "stdout",
     "output_type": "stream",
     "text": [
      "한국과 일본의 관계는 역사적으로 복잡하고 다양한 측면을 가지고 있습니다. 이 두 나라는 지리적으로 가까운 이웃이지만, 역사적 사건과 문화적 차이로 인해 갈등과 협력이 반복되어왔습니다. 다음은 한국과 일본의 관계를 이해하는 데 도움이 되는 주요 요소들입니다.\n",
      "\n",
      "### 역사적 배경\n",
      "\n",
      "1. **고대 및 중세**\n",
      "   - 한국과 일본은 오랜 역사 동안 서로 영향을 주고받았습니다. 한국의 농업 기술, 문자, 불교 등이 일본에 전파되었습니다. \n",
      "   - 그러나 양국 사이에는 무역과 외교적 교류뿐만 아니라 전쟁과 갈등도 존재했습니다.\n",
      "\n",
      "2. **일제강점기 (1910-1945)**\n",
      "   - 일본은 1910년에 한국을 강제로 병합하여 35년간 식민지 지배를 하였습니다. 이 시기는 한국인에게 극심한 고통과 억압을 안겼으며, 일본은 한국의 문화와 역사를 억압했습니다.\n",
      "   - 이 시기에 발생한 여러 사건, 특히 일본 강제 노역, 위안부 문제 등은 오늘날에도 양국 관계에 큰 영향을 미치고 있습니다.\n",
      "\n",
      "3. **전후 관계**\n",
      "   - 제2차 세계대전 이후, 한국과 일본은 각각 분단과 독립을 경험했습니다. 1965년 한일국교 정상화가 이루어지면서 경제적 협력 관계가 시작되었습니다.\n",
      "   - 그러나 과거사에 대한 인식 차이로 인해 갈등이 지속되었습니다.\n",
      "\n",
      "### 경제적 관계\n",
      "\n",
      "- **무역과 투자**\n",
      "  - 한국과 일본은 서로 중요한 무역 파트너입니다. 일본은 한국의 주요 수출입국 중 하나이며, 두 나라의 경제는 서로 밀접하게 연결되어 있습니다.\n",
      "  - 기술, 자동차, 전자제품 등의 분야에서 협력 관계를 유지하고 있습니다.\n",
      "\n",
      "### 문화적 교류\n",
      "\n",
      "- **문화**\n",
      "  - 한국과 일본은 서로의 문화에 대한 관심이 높습니다. 한류(한국의 대중문화)와 일본의 애니메이션, 만화는 양국에서 많은 인기를 끌고 있습니다.\n",
      "  - 양국 간의 문화 교류는 긍정적인 측면으로 작용하지만, 때때로 역사적 감정이 이를 가로막기도 합니다.\n",
      "\n",
      "### 현재의 갈등 요소\n",
      "\n",
      "1. **역사 문제**\n",
      "   - 일제 강점기 동안의 억압적인 정책, 특히 위안부 문제와 강제 징용문제는 여전히 갈등의 주요 원인입니다. 한국 측에서는 일본의 사죄와 보상을 요구하고 있으며, 일본에서는 역사적 사실에 대한 입장 차이가 존재합니다.\n",
      "\n",
      "2. **영토 분쟁**\n",
      "   - 독도(일본에서 부르는 이름은 다케시마)에 대한 주권 분쟁은 양국 간의 긴장을 강화하는 요소입니다.\n",
      "\n",
      "3. **안보 문제**\n",
      "   - 북핵 문제와 중국의 군사적 부상 등은 두 나라가 협력할 수 있는 기회를 제공하는 동시에, 서로 다른 외교적 이해관계를 만들어냅니다.\n",
      "\n",
      "### 미래 전망\n",
      "\n",
      "- 한국과 일본의 관계는 과거사 문제와 지역 안보, 경제적 협력 등 다양한 요인에 의해 영향을 받을 것입니다. 서로의 역사적 아픔을 이해하고, 미래 지향적인 관계를 형성하기 위한 노력이 필요합니다. \n",
      "\n",
      "이와 같은 복잡한 관계 속에서 한국과 일본은 서로의 문화와 경제적 이해관계를 바탕으로 협력할 수 있는 가능성도 존재합니다. 두 나라가 과거를 극복하고 미래 지향적으로 나아가기 위해서는 상호 이해와 존중이 필수적입니다."
     ]
    }
   ],
   "source": [
    "\n",
    "inputs = {\"messages\": [(\"human\", \"한국과 일본의 관계에 대해 자세히 알려줘\")]}\n",
    "for chunk, _ in graph.stream(inputs, stream_mode=\"messages\"):\n",
    "    print(chunk.content, end=\"\")"
   ]
  },
  {
   "cell_type": "code",
   "execution_count": null,
   "metadata": {},
   "outputs": [],
   "source": []
  }
 ],
 "metadata": {
  "kernelspec": {
   "display_name": "venv",
   "language": "python",
   "name": "python3"
  },
  "language_info": {
   "codemirror_mode": {
    "name": "ipython",
    "version": 3
   },
   "file_extension": ".py",
   "mimetype": "text/x-python",
   "name": "python",
   "nbconvert_exporter": "python",
   "pygments_lexer": "ipython3",
   "version": "3.12.9"
  }
 },
 "nbformat": 4,
 "nbformat_minor": 2
}
