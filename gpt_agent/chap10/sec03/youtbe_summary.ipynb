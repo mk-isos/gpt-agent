{
 "cells": [
  {
   "cell_type": "code",
   "execution_count": 1,
   "metadata": {},
   "outputs": [
    {
     "name": "stdout",
     "output_type": "stream",
     "text": [
      "Collecting youtube-search\n",
      "  Downloading youtube_search-2.1.2-py3-none-any.whl.metadata (1.2 kB)\n",
      "Requirement already satisfied: requests in /Users/moonki/Desktop/gpt-agent/gpt_agent/venv/lib/python3.12/site-packages (from youtube-search) (2.32.3)\n",
      "Requirement already satisfied: charset-normalizer<4,>=2 in /Users/moonki/Desktop/gpt-agent/gpt_agent/venv/lib/python3.12/site-packages (from requests->youtube-search) (3.4.2)\n",
      "Requirement already satisfied: idna<4,>=2.5 in /Users/moonki/Desktop/gpt-agent/gpt_agent/venv/lib/python3.12/site-packages (from requests->youtube-search) (3.10)\n",
      "Requirement already satisfied: urllib3<3,>=1.21.1 in /Users/moonki/Desktop/gpt-agent/gpt_agent/venv/lib/python3.12/site-packages (from requests->youtube-search) (2.4.0)\n",
      "Requirement already satisfied: certifi>=2017.4.17 in /Users/moonki/Desktop/gpt-agent/gpt_agent/venv/lib/python3.12/site-packages (from requests->youtube-search) (2025.4.26)\n",
      "Downloading youtube_search-2.1.2-py3-none-any.whl (3.4 kB)\n",
      "Installing collected packages: youtube-search\n",
      "Successfully installed youtube-search-2.1.2\n",
      "Note: you may need to restart the kernel to use updated packages.\n"
     ]
    }
   ],
   "source": [
    "%pip install youtube-search"
   ]
  },
  {
   "cell_type": "code",
   "execution_count": 2,
   "metadata": {},
   "outputs": [
    {
     "data": {
      "text/plain": [
       "[{'id': 'j49nHhfXvjY',\n",
       "  'thumbnails': ['https://i.ytimg.com/vi/j49nHhfXvjY/hq720.jpg?sqp=-oaymwEjCOgCEMoBSFryq4qpAxUIARUAAAAAGAElAADIQj0AgKJDeAE=&rs=AOn4CLDDMFg8nGds3FB_zZqGCfsntkCyAQ',\n",
       "   'https://i.ytimg.com/vi/j49nHhfXvjY/hq720.jpg?sqp=-oaymwEXCNAFEJQDSFryq4qpAwkIARUAAIhCGAE=&rs=AOn4CLAfcHgPX-DbNcw18GlVopTCiWgS1g'],\n",
       "  'title': '이재명 \"미국서 오시면 막걸리 한 잔\"…그러자 홍준표 SNS에선 [대선네컷] / SBS',\n",
       "  'long_desc': None,\n",
       "  'channel': 'SBS 뉴스',\n",
       "  'duration': '4:32',\n",
       "  'views': '조회수 310,751회',\n",
       "  'publish_time': '17시간 전',\n",
       "  'url_suffix': '/watch?v=j49nHhfXvjY&pp=ygUN66-46rWtIOuMgOyEoA%3D%3D'},\n",
       " {'id': '4A3P9Tgm8wc',\n",
       "  'thumbnails': ['https://i.ytimg.com/vi/4A3P9Tgm8wc/hq720.jpg?sqp=-oaymwEjCOgCEMoBSFryq4qpAxUIARUAAAAAGAElAADIQj0AgKJDeAE=&rs=AOn4CLBiKa6FlGtJbPpVcHb4Nkfj_G7yqQ',\n",
       "   'https://i.ytimg.com/vi/4A3P9Tgm8wc/hq720.jpg?sqp=-oaymwEXCNAFEJQDSFryq4qpAwkIARUAAIhCGAE=&rs=AOn4CLA9dp_amuxkebdEB0E_Yg87rC4ZQA'],\n",
       "  'title': '[2020 미국 대선] 표 적게 받고도 대통령 된다? 복잡한 선거제도 6분 총정리 ❙ Won Less, but Elected Anyways? / 비디오머그',\n",
       "  'long_desc': None,\n",
       "  'channel': '비디오머그 - VIDEOMUG',\n",
       "  'duration': '5:50',\n",
       "  'views': '조회수 515,206회',\n",
       "  'publish_time': '4년 전',\n",
       "  'url_suffix': '/watch?v=4A3P9Tgm8wc&pp=ygUN66-46rWtIOuMgOyEoA%3D%3D'},\n",
       " {'id': 'brHF-tV-p4Q',\n",
       "  'thumbnails': ['https://i.ytimg.com/vi/brHF-tV-p4Q/hq720.jpg?sqp=-oaymwEjCOgCEMoBSFryq4qpAxUIARUAAAAAGAElAADIQj0AgKJDeAE=&rs=AOn4CLC2QHqhFN4-OJZOCnMjbgI54bRx_g',\n",
       "   'https://i.ytimg.com/vi/brHF-tV-p4Q/hq720.jpg?sqp=-oaymwEXCNAFEJQDSFryq4qpAwkIARUAAIhCGAE=&rs=AOn4CLDHgbKYbEWE5Q_5Vvz0f_BdwbRFZw'],\n",
       "  'title': '최다 득표하고도 패배할 수 있다...독특한 미 대선 방식 / YTN',\n",
       "  'long_desc': None,\n",
       "  'channel': ' YTN',\n",
       "  'duration': '1:58',\n",
       "  'views': '조회수 24,172회',\n",
       "  'publish_time': '6개월 전',\n",
       "  'url_suffix': '/watch?v=brHF-tV-p4Q&pp=ygUN66-46rWtIOuMgOyEoA%3D%3D'},\n",
       " {'id': 'miYH9Dn9dWo',\n",
       "  'thumbnails': ['https://i.ytimg.com/vi/miYH9Dn9dWo/hq720.jpg?sqp=-oaymwEjCOgCEMoBSFryq4qpAxUIARUAAAAAGAElAADIQj0AgKJDeAE=&rs=AOn4CLDxAVFv1QpoXRjXMQZPUV2DsyPJgg',\n",
       "   'https://i.ytimg.com/vi/miYH9Dn9dWo/hq720.jpg?sqp=-oaymwEXCNAFEJQDSFryq4qpAwkIARUAAIhCGAE=&rs=AOn4CLAvnNu2VBHFf9SLEv6RRCzDxnPHoQ'],\n",
       "  'title': '[자막뉴스] \"대선 전에\" 美, 한국 입장과 전혀 다른 내용...파장 예고 / YTN',\n",
       "  'long_desc': None,\n",
       "  'channel': ' YTN',\n",
       "  'duration': '2:26',\n",
       "  'views': '조회수 553,453회',\n",
       "  'publish_time': '2주 전',\n",
       "  'url_suffix': '/watch?v=miYH9Dn9dWo&pp=ygUN66-46rWtIOuMgOyEoA%3D%3D'},\n",
       " {'id': 'MTRFDEPTDVs',\n",
       "  'thumbnails': ['https://i.ytimg.com/vi/MTRFDEPTDVs/hq720.jpg?sqp=-oaymwEjCOgCEMoBSFryq4qpAxUIARUAAAAAGAElAADIQj0AgKJDeAE=&rs=AOn4CLADiWveGohq6aZ_QQUPwKq89z8RSA',\n",
       "   'https://i.ytimg.com/vi/MTRFDEPTDVs/hq720.jpg?sqp=-oaymwEXCNAFEJQDSFryq4qpAwkIARUAAIhCGAE=&rs=AOn4CLBT11xCyxTnyzjn-1WlEkGxs3yBcg'],\n",
       "  'title': \"한 번의 과정을 더 거치는 미국의 독특한 '선거인단 제도' 차이나는 클라스(jtbclecture) 173회 | JTBC 20200908 방송\",\n",
       "  'long_desc': None,\n",
       "  'channel': '교양 Voyage',\n",
       "  'duration': '3:18',\n",
       "  'views': '조회수 75,144회',\n",
       "  'publish_time': '4년 전',\n",
       "  'url_suffix': '/watch?v=MTRFDEPTDVs&pp=ygUN66-46rWtIOuMgOyEoA%3D%3D'}]"
      ]
     },
     "execution_count": 2,
     "metadata": {},
     "output_type": "execute_result"
    }
   ],
   "source": [
    "from youtube_search import YoutubeSearch\n",
    "\n",
    "videos = YoutubeSearch(\"미국 대선\", max_results=5).to_dict()\n",
    "videos"
   ]
  },
  {
   "cell_type": "code",
   "execution_count": 3,
   "metadata": {},
   "outputs": [
    {
     "data": {
      "text/plain": [
       "'http://youtube.com/watch?v=miYH9Dn9dWo&pp=ygUN66-46rWtIOuMgOyEoA%3D%3D'"
      ]
     },
     "execution_count": 3,
     "metadata": {},
     "output_type": "execute_result"
    }
   ],
   "source": [
    "\n",
    "video_url = 'http://youtube.com' + videos[3]['url_suffix']\n",
    "video_url\n"
   ]
  },
  {
   "cell_type": "code",
   "execution_count": 4,
   "metadata": {},
   "outputs": [
    {
     "name": "stdout",
     "output_type": "stream",
     "text": [
      "Collecting youtube_transcript_api\n",
      "  Downloading youtube_transcript_api-1.0.3-py3-none-any.whl.metadata (23 kB)\n",
      "Collecting defusedxml<0.8.0,>=0.7.1 (from youtube_transcript_api)\n",
      "  Downloading defusedxml-0.7.1-py2.py3-none-any.whl.metadata (32 kB)\n",
      "Requirement already satisfied: requests in /Users/moonki/Desktop/gpt-agent/gpt_agent/venv/lib/python3.12/site-packages (from youtube_transcript_api) (2.32.3)\n",
      "Requirement already satisfied: charset-normalizer<4,>=2 in /Users/moonki/Desktop/gpt-agent/gpt_agent/venv/lib/python3.12/site-packages (from requests->youtube_transcript_api) (3.4.2)\n",
      "Requirement already satisfied: idna<4,>=2.5 in /Users/moonki/Desktop/gpt-agent/gpt_agent/venv/lib/python3.12/site-packages (from requests->youtube_transcript_api) (3.10)\n",
      "Requirement already satisfied: urllib3<3,>=1.21.1 in /Users/moonki/Desktop/gpt-agent/gpt_agent/venv/lib/python3.12/site-packages (from requests->youtube_transcript_api) (2.4.0)\n",
      "Requirement already satisfied: certifi>=2017.4.17 in /Users/moonki/Desktop/gpt-agent/gpt_agent/venv/lib/python3.12/site-packages (from requests->youtube_transcript_api) (2025.4.26)\n",
      "Downloading youtube_transcript_api-1.0.3-py3-none-any.whl (2.2 MB)\n",
      "\u001b[2K   \u001b[90m━━━━━━━━━━━━━━━━━━━━━━━━━━━━━━━━━━━━━━━━\u001b[0m \u001b[32m2.2/2.2 MB\u001b[0m \u001b[31m9.4 MB/s\u001b[0m eta \u001b[36m0:00:00\u001b[0mta \u001b[36m0:00:01\u001b[0m\n",
      "\u001b[?25hDownloading defusedxml-0.7.1-py2.py3-none-any.whl (25 kB)\n",
      "Installing collected packages: defusedxml, youtube_transcript_api\n",
      "\u001b[2K   \u001b[90m━━━━━━━━━━━━━━━━━━━━━━━━━━━━━━━━━━━━━━━━\u001b[0m \u001b[32m2/2\u001b[0m [youtube_transcript_api]\n",
      "\u001b[1A\u001b[2KSuccessfully installed defusedxml-0.7.1 youtube_transcript_api-1.0.3\n",
      "Note: you may need to restart the kernel to use updated packages.\n"
     ]
    }
   ],
   "source": [
    "%pip install youtube_transcript_api"
   ]
  },
  {
   "cell_type": "code",
   "execution_count": 5,
   "metadata": {},
   "outputs": [
    {
     "data": {
      "text/plain": [
       "[Document(metadata={'source': 'miYH9Dn9dWo'}, page_content='백관는 트럼프 취임 배기를 맞아 이른 아침부터 브리핑을 했습니다. 트럼프 대통령이 물가도 낮추고 대규모 해외 투자도 유치했다며 성과를 나열하는 자리였습니다. 지의 응답에서는 곧 선거를 치르는 한국, 일본의 경우 관세 이회가 끝나는 7월 초까지 협상 마무리가 어려운 것 아닌지 질문이 나왔는데 아 센트 재무장관은 그 반대로 이해하고 있다며 이렇게 답변했습니다. United are정은 또 한국은 일본인도와 함께 협상에서 가장 적극적으로 협력하는 나라며 협상 윤곽이 점차 드러나고 있다고 말했습니다. 러트닉 사무장관은 CNBC와 인터뷰에서 이미 협상이 완료돼이 인준을 기다리는 나라도 있다고 말했지만 어느 나라인지 구체적으로 검명하진 않았습니다. 당장 자동차 부품 100%를 미국에서 조달할 수 없는게 현실인만큼 앞으로 2년 동안은 관세를 깎아 주겠다는게 골짜입니다. 아, 상무 고의당국자는 브리핑을 통해 미국에서 완성하는 자동차에 한해 부품 관세를 2년에 걸쳐 상쇄해 주겠다고 밝혔습니다. 첫에는 차값의 15%, 두 번째에는 10%만큼 부품 관세 25%를 받지 않겠다는 건데 전체 차값으로 따지면 각각 3.75%와 2.5%에 해당하는 금액입니다. 트럼프 대통령은 자동차 부품에 미국 내 생산이 가능할 때까지 잠시 시간을 주는 거라고 설명했습니다. 직접 들어보시죠. [음악] 혼조세로 시작한 뉴욕 증시는 트럼프 행정부의 자동차 관세 감면조치 발표 이후 일제 상승세로 전환했습니다. 입니다.')]"
      ]
     },
     "execution_count": 5,
     "metadata": {},
     "output_type": "execute_result"
    }
   ],
   "source": [
    "from langchain_community.document_loaders import YoutubeLoader\n",
    "\n",
    "loader = YoutubeLoader.from_youtube_url(\n",
    "    video_url, \n",
    "    language=['ko', 'en'] # 자막 언어\n",
    ")\n",
    "\n",
    "loader.load()"
   ]
  },
  {
   "cell_type": "code",
   "execution_count": 6,
   "metadata": {},
   "outputs": [
    {
     "data": {
      "text/plain": [
       "[{'id': 'j49nHhfXvjY',\n",
       "  'thumbnails': ['https://i.ytimg.com/vi/j49nHhfXvjY/hq720.jpg?sqp=-oaymwEjCOgCEMoBSFryq4qpAxUIARUAAAAAGAElAADIQj0AgKJDeAE=&rs=AOn4CLDDMFg8nGds3FB_zZqGCfsntkCyAQ',\n",
       "   'https://i.ytimg.com/vi/j49nHhfXvjY/hq720.jpg?sqp=-oaymwEXCNAFEJQDSFryq4qpAwkIARUAAIhCGAE=&rs=AOn4CLAfcHgPX-DbNcw18GlVopTCiWgS1g'],\n",
       "  'title': '이재명 \"미국서 오시면 막걸리 한 잔\"…그러자 홍준표 SNS에선 [대선네컷] / SBS',\n",
       "  'long_desc': None,\n",
       "  'channel': 'SBS 뉴스',\n",
       "  'duration': '4:32',\n",
       "  'views': '조회수 310,751회',\n",
       "  'publish_time': '17시간 전',\n",
       "  'url_suffix': '/watch?v=j49nHhfXvjY&pp=ygUN66-46rWtIOuMgOyEoA%3D%3D',\n",
       "  'video_url': 'http://youtube.com/watch?v=j49nHhfXvjY&pp=ygUN66-46rWtIOuMgOyEoA%3D%3D',\n",
       "  'content': [Document(metadata={'source': 'j49nHhfXvjY'}, page_content='[음악] 대선 이야기들. 오늘도 대선네 코너에서 더 알아보겠습니다. 정치보 최재현 기자 나와 있습니다. 최기자 오늘 첫 번째 것은 홍준표 대구 시장인데 전개를 떠났는데도 요즘 이야기가 계속 나옵니다. 네. 먼저 이재명 민주당 후보가 어제 SNS에 올린 글부터 보겠습니다. 홍준표 전 대구 시장을 보시는 것처럼 선배님이라고 부르면서이 선배님의 국가 경령의 꿈 특히 좌우 통합 정보를 만들어 위기를 극복하고 전진하자는 말씀에 깊이 공감한다. 그리고 미국에서 돌아오시면 막걸리 한 잔 나누자고 썼습니다. 여기에 화답이라도 한 걸까요? 홍정시장을 앞서 이재명 나라에서 한번 살아봐라고 SNS에 글을 올렸었는데이 후보 글이 나온 뒤 삭제했습니다. 일부흥전 시장 지지자들은이 후보 지지를 선언하기도 했습니다. 이재명 후무님께서 통합을 갖다가 내쉬면서 또 우리가 추구하는 그런 가치를 공유를 하겠다. 그래도 홍전시장은 국민의 힘 대선경선 후보였는데 국민의 힘에서 이걸 어떻게 바라보고 있습니까? 네. 국민의 임에서는 맞듯한 반응이 많습니다. 안철수원 같은 경우에 이재명의 사탄 발림에 결코 흔들려서는 안 된다고 주장하게 됐습니다. 홍전 시장측은이 후보 지지를 선언한 단체는 실체가 불분명한 외곽 조직이라고 선을 긋기도 했는데이 홍전 시장 정개 은퇴 이후에 러브코를 더 많이 받는 거 같습니다. 네. 다음 두 번째 컵 보겠습니다. 이재명 후보가 유세를 하는 모습인데 오늘은 어떤 이야기를 했습니까?네 네. 오늘 대구유사 현장에서 이재명 민주당 후보가 이런 말을 했습니다. [박수] 제가 세세했습니다. 중국에도 세세하고 대만에도 세세하고 다른 나라하고 잘 지내면 되지. 대만하고 중국하고 싸우든지 말든지 그게 우리하고 무슨 상관이냐 이렇게 말했습니다. 네. 고맙다는 뜻에 중국어입니다. 과거에도 이재명 후보가 이런 말을 해서 논란이 됐었는데 왜 이런 말을 또 꺼낸 겁니까? 네. 지난해 3월이죠.이 총선을 앞두고 지역 유세를 하면서이 후보가 비슷한 말을 했었습니다.이 후보측은 특정 국가를 적으로 두지 않고 국익을 최우선으로 하는 실용 외교를 강조하다가 나온 말이라고 해명했고 국민의 힘은 친중행보다 판미에 부정적 영향을 줄 수 있다고 비판했었습니다. 이유보가 또다시이 말을 꺼낸 건 자신은 실용을 강조했을 뿐이라고 거듭 주장하려는 걸로 보입니다. 네. 다음 세 번째 컷 보겠습니다. 이번에는 김문수 후보 모습인데 역시 대구 경북 지역을 찾았죠. 네. 김은수보가 대구 경북 선거 대체기 출정식에서 그야말로 뼈 있는 얘기를 했습니다. 생긴게 벌써 뼈밖에 없잖아요. 그래서 저보고 제가 뼈돼 있는 집안에다 보니 뼈밖에 없습니다. 그래서 여러분들께서 김문수는이 거짓말 시기는 사람이 아니다. 이거 하나는 좀 많이 알려진 거 같은데 그래도 못 믿는 분 계시면 손 한번 들어 보세요. 재밌자고 한 말 같은데 뭐 어떤 뜻으로 말한 건가요?네 현장에서의이 농담을 섞어서 던진 말입니다.이 자신은 거짓말하는 후보가 아니다. 선거철의 달콤한 말로 표를 뺏어 가려는게 아니다. 특히 자신은 이재명 후보와는 다르다고 주장하다가 나온 발언이었습니다. 네. 마지막 것은 스타벅스 매장이 보이고 사용 불과라고 돼 있는데 스타벅스 매장을 못 쓴다는 겁니까? 뭘 못 쓴다는 겁니까? 네. 스태벅스 매장에서이 주문화 음료가 나오면은 닉네임을 사용하는 고객에겐 매장 직원이 닉네임을 불러서 음료가 준비됐다는 걸 알려줍니다. 그런데 대선일인 다음 달 3일까지는 이재명, 김문수, 이준석 등 대선후보 일곱명의 이름 그리고 여기에 윤성열 대통령의 이름까지 스타벅스 매장에서 닉네임으로 사용할 수 없게 됐다고 합니다.이 이 스타버스 측은 지금도 역설 같이 다른 고객에게 불쾌감을 줄 수 있는 닉네임은 사용을 제한하고 있다면서이 논란을 최소화하고 정치적 중립을 지키기 위한 조치라고 설명했습니다. SBS 최재형입니다.')]},\n",
       " {'id': '4A3P9Tgm8wc',\n",
       "  'thumbnails': ['https://i.ytimg.com/vi/4A3P9Tgm8wc/hq720.jpg?sqp=-oaymwEjCOgCEMoBSFryq4qpAxUIARUAAAAAGAElAADIQj0AgKJDeAE=&rs=AOn4CLBiKa6FlGtJbPpVcHb4Nkfj_G7yqQ',\n",
       "   'https://i.ytimg.com/vi/4A3P9Tgm8wc/hq720.jpg?sqp=-oaymwEXCNAFEJQDSFryq4qpAwkIARUAAIhCGAE=&rs=AOn4CLA9dp_amuxkebdEB0E_Yg87rC4ZQA'],\n",
       "  'title': '[2020 미국 대선] 표 적게 받고도 대통령 된다? 복잡한 선거제도 6분 총정리 ❙ Won Less, but Elected Anyways? / 비디오머그',\n",
       "  'long_desc': None,\n",
       "  'channel': '비디오머그 - VIDEOMUG',\n",
       "  'duration': '5:50',\n",
       "  'views': '조회수 515,206회',\n",
       "  'publish_time': '4년 전',\n",
       "  'url_suffix': '/watch?v=4A3P9Tgm8wc&pp=ygUN66-46rWtIOuMgOyEoA%3D%3D',\n",
       "  'video_url': 'http://youtube.com/watch?v=4A3P9Tgm8wc&pp=ygUN66-46rWtIOuMgOyEoA%3D%3D',\n",
       "  'content': [Document(metadata={'source': '4A3P9Tgm8wc'}, page_content='[박수] 하지만 전체 득표수에 트럼프보다 20만 표 이상 더 얻은 것으로 드러나 독특한 미국 선거제도의 희생이 됐다는 트럼프보다 20만 표 이상 더 얻은 것으로 드러나 [음악] 그 미국 선거가 다른 나라와 가장 큰 차이를 가지는게 바로 선거인단이 건데요 유권자와 후보 사이에 그 중간자가 하나 존재한다고 생각하시면 될 거 같아요이 538명의 선거인단을 50개 주와 워싱턴 DC 여기에다가 이제 배분을 하는데 그래서 예를 들어서 캘리포니아주 같은 경우에 조바이든 후보와 트럼프 후보를 사람들이 이제 찍어요 그런데 집계를 해보니까 조바이든 후보가 천 한표 그다음에 트럼프 대통령이 표를 받았어요 그러면 캘리포니아 주는 인구가 굉장히 많아서 신 다섯명을 가져가거나 명을 한 표를 더 받은 조바이든 후보가 다 가져가는 거죠 그거를 전국 차원에서 집계를 해서 538명의 과반은 270명이아요 270명의 선거인 들 먼저 획득한 후보가 선거에서 이기게 되는 [음악] 거죠 물론 개인적인 입장에서 보면 내 표가 사표가 됐지만 미국 전역에서 보면 민주당이 우세인 지역도 있고 공화당이 우세인 지역도 있으니까 서로 사표가 돈이 된다고 해야 될까요 사실 미국 의회에 선거인단 제도를 없애자라고 법안이 몇백개가 지금까지 발휘가 되긴 했어요 하지만 단 한 번도 의회를 통과하지 못했는데 미국에 굉장히 오랫동안 존재했던이 제대로 없애면 어 우리당에 불리한 거 아니야 이런 근본적인 두려움이 있어서 사실 개혁이 안 이루어지고 있었거든요 굳이 선거인단 입장에서 그 후보한테 투표할 의무는 없는 거 아닌가요 그냥 속된말로 배신을 할 수 있는 건 아닌지네 맞습니다 사실 의문은 없어요 그래서 실제로 배신 투표가 가끔 일어나긴 해요음 미국의 이제 32개 주와 워싱턴 DC 같은 경우는 배신 투표를 했을 때 벌금을 매긴다 그나이 사람을 바로 선거인단에 빼 버린다거나 이런 식으로 할 수 있고요 반면에 이제 18개 주는 아무런 그 처벌 조항이 없어요 배신을 했다라는 거를 사람들이 다 알 수 있는 거예요네 왜냐면 선거인단 투표는 간식이든 [음악] 그래서 11월 3일에 이제 올해 투표를 하잖아요 각 주별로 이제 누가 한 표라도 더 받았는지 이제 집계를 하죠 그러면 선거인단이 이제 12월 14일에 각 주의 주도로 갑니다 거기에서 각각 후보 이름을 써내는 거예요 선거인단이 또 투표를 한 거를 공개하는 거는 내년 2021년 1월 6일 날 의회에서 하게 되는 거예요 그 과정까지가 사실 마무리가 되야 미국 대통령이 공식으로 이제 선출이 되는 죠 가끔 한국에서 미국 선거는 간접 선거라는 설명을 제가 볼 때가 있는데 미국은 직접 [음악] 선거예측 네 그다음에 오하이오 바로 옆에 있는 오하이오 르브론 제임스의 고향이죠 그다음에 미시건 GM 같은 미국의 자동차 산업이 많은 곳 그다음에 위스콘신 여기는 이제 뭐 밀워키 아든 이런 도시가 있고 그다음에 옥수수밭이 엄청 많은 아이와 그리고 마지막으로 이제 플로리다 여기 요렇게 지금 제가 스티커를 붙인 여섯 개 주가 왜 중요하냐면 2012년까지는요 스티커가 있는 주들이 파란색이 2016년에 빨간색으로 바뀐 거예요이 주들의 특징이 뭐냐면 저희가 지난번에 얘기했던 백인 블루 컬러 노동자들이 굉장히 많은 주들이 지난 2016년 선거에서 미국에서 한 1억 2천만 명 정도가 투표를 했거든요 근데 그 중에서 펜실베니아 미시건 위스콘신에 사는 10만 명의 표가 그 지난번 선거를 결정했다고 보시면 돼요 힐러리 클린턴 같은 경우에 선거가 끝난 다음에 많은 비판을 받은게 실 뉴욕이나 캘리포니아에서 펀드레이징 행사를 덜 하고 미시간이나 위스콘신에 가서 적극적으로 유권자들을 만났어야 하는데 캠프 내에서 미시간을 이제 경합주로 보지 않았기 때문에 전략에 이제 실패라고도 볼 수 있는 거죠 그래서 지금 조바이든 후보 보시면 정말 열심히 미시건 위스컨신 펜실베니아 가고 있거든요 2016년에 이제 패배를 교훈 삼아서 이번에 전략을 짠 거죠 우편 투표가 쉬울까요 투표소에 가서 투표를 하는게 쉬울까요 투자가 쉽겠죠 아 그럴까요 우편 투표를 하면 민주당의 유리한가 공화당의 유리한가 결론은 [음악]')]},\n",
       " {'id': 'brHF-tV-p4Q',\n",
       "  'thumbnails': ['https://i.ytimg.com/vi/brHF-tV-p4Q/hq720.jpg?sqp=-oaymwEjCOgCEMoBSFryq4qpAxUIARUAAAAAGAElAADIQj0AgKJDeAE=&rs=AOn4CLC2QHqhFN4-OJZOCnMjbgI54bRx_g',\n",
       "   'https://i.ytimg.com/vi/brHF-tV-p4Q/hq720.jpg?sqp=-oaymwEXCNAFEJQDSFryq4qpAwkIARUAAIhCGAE=&rs=AOn4CLDHgbKYbEWE5Q_5Vvz0f_BdwbRFZw'],\n",
       "  'title': '최다 득표하고도 패배할 수 있다...독특한 미 대선 방식 / YTN',\n",
       "  'long_desc': None,\n",
       "  'channel': ' YTN',\n",
       "  'duration': '1:58',\n",
       "  'views': '조회수 24,172회',\n",
       "  'publish_time': '6개월 전',\n",
       "  'url_suffix': '/watch?v=brHF-tV-p4Q&pp=ygUN66-46rWtIOuMgOyEoA%3D%3D',\n",
       "  'video_url': 'http://youtube.com/watch?v=brHF-tV-p4Q&pp=ygUN66-46rWtIOuMgOyEoA%3D%3D',\n",
       "  'content': [Document(metadata={'source': 'brHF-tV-p4Q'}, page_content='미국 대선은 대통령 후보에 직접 투표하는게 아니라 특정 후보를 지지하기로 서약한 선거인단에 투표하는 간접 선거 방식입니다네 또 승자 독식자 제도 때문에 더 많이 득표한 후보가 당선되지 못할 수도 있는데요 미 대선의 특징과 절차를 조수현 기자가 정리했습니다 지난 2000년 미국 대선 당시 엘고어 후보가 전체 득표에서 앞섰지만 승은 부시 대통령이었습니다 2016년에는 힐러리클린턴 후보 가 약 70만 표를 더 얻고도 트럼프 대통령에 패했습니다 두 선거 모두 이런 결과가 나온 건 선거인단 때문이었습니다 미국 대서는 특정 후보를 지지하기로 서약한 선거인단 538 명을 선출하는 간접 선거 방식으로 치러집니다 538명 50개 주에서 선출되는 연방 상원 이원 100명에 하원 이원 435명 그리고 의원이 없는 수도 워싱턴 디시에 배정된 선거인단 세명을 더한 숫자 주별 선거인단 숫자는 인구 비례로 배분됩니다 따라서 인구가 가장 많은 캘리포니아가 쉬은 네명으로 가장 많고 이어 텍사스 플로리다 뉴욕 순입니다 인구가 적은 알래스카와 버몬트 등 여섯 개 주는 선거인단이 세명에 불과합니다 538명 중 270명 이상을 차지하는 후보가 승리하게 되는데 여기서 핵심은 승자독식제 네브라스카 메인주를 제외한 48개 주에서 한 표라도 더 얻은 후보가 해당주의 선거인단을 모두 차지하는 제도입니다이 때문에 전체 득표에서는 앞서고 최종적으로 질 수 있다는 겁니다 개표와 함께 당락은 사실상 확정되지만 다음 달 16일 선거인단이 대통령 후보에 대해 투표하는 형식적인 절차를 거쳐 내년 1월 6일 차기 대통령이 공표합니다 YTN 조수현 있니다')]},\n",
       " {'id': 'miYH9Dn9dWo',\n",
       "  'thumbnails': ['https://i.ytimg.com/vi/miYH9Dn9dWo/hq720.jpg?sqp=-oaymwEjCOgCEMoBSFryq4qpAxUIARUAAAAAGAElAADIQj0AgKJDeAE=&rs=AOn4CLDxAVFv1QpoXRjXMQZPUV2DsyPJgg',\n",
       "   'https://i.ytimg.com/vi/miYH9Dn9dWo/hq720.jpg?sqp=-oaymwEXCNAFEJQDSFryq4qpAwkIARUAAIhCGAE=&rs=AOn4CLAvnNu2VBHFf9SLEv6RRCzDxnPHoQ'],\n",
       "  'title': '[자막뉴스] \"대선 전에\" 美, 한국 입장과 전혀 다른 내용...파장 예고 / YTN',\n",
       "  'long_desc': None,\n",
       "  'channel': ' YTN',\n",
       "  'duration': '2:26',\n",
       "  'views': '조회수 553,453회',\n",
       "  'publish_time': '2주 전',\n",
       "  'url_suffix': '/watch?v=miYH9Dn9dWo&pp=ygUN66-46rWtIOuMgOyEoA%3D%3D',\n",
       "  'video_url': 'http://youtube.com/watch?v=miYH9Dn9dWo&pp=ygUN66-46rWtIOuMgOyEoA%3D%3D',\n",
       "  'content': [Document(metadata={'source': 'miYH9Dn9dWo'}, page_content='백관는 트럼프 취임 배기를 맞아 이른 아침부터 브리핑을 했습니다. 트럼프 대통령이 물가도 낮추고 대규모 해외 투자도 유치했다며 성과를 나열하는 자리였습니다. 지의 응답에서는 곧 선거를 치르는 한국, 일본의 경우 관세 이회가 끝나는 7월 초까지 협상 마무리가 어려운 것 아닌지 질문이 나왔는데 아 센트 재무장관은 그 반대로 이해하고 있다며 이렇게 답변했습니다. United are정은 또 한국은 일본인도와 함께 협상에서 가장 적극적으로 협력하는 나라며 협상 윤곽이 점차 드러나고 있다고 말했습니다. 러트닉 사무장관은 CNBC와 인터뷰에서 이미 협상이 완료돼이 인준을 기다리는 나라도 있다고 말했지만 어느 나라인지 구체적으로 검명하진 않았습니다. 당장 자동차 부품 100%를 미국에서 조달할 수 없는게 현실인만큼 앞으로 2년 동안은 관세를 깎아 주겠다는게 골짜입니다. 아, 상무 고의당국자는 브리핑을 통해 미국에서 완성하는 자동차에 한해 부품 관세를 2년에 걸쳐 상쇄해 주겠다고 밝혔습니다. 첫에는 차값의 15%, 두 번째에는 10%만큼 부품 관세 25%를 받지 않겠다는 건데 전체 차값으로 따지면 각각 3.75%와 2.5%에 해당하는 금액입니다. 트럼프 대통령은 자동차 부품에 미국 내 생산이 가능할 때까지 잠시 시간을 주는 거라고 설명했습니다. 직접 들어보시죠. [음악] 혼조세로 시작한 뉴욕 증시는 트럼프 행정부의 자동차 관세 감면조치 발표 이후 일제 상승세로 전환했습니다. 입니다.')]},\n",
       " {'id': 'MTRFDEPTDVs',\n",
       "  'thumbnails': ['https://i.ytimg.com/vi/MTRFDEPTDVs/hq720.jpg?sqp=-oaymwEjCOgCEMoBSFryq4qpAxUIARUAAAAAGAElAADIQj0AgKJDeAE=&rs=AOn4CLADiWveGohq6aZ_QQUPwKq89z8RSA',\n",
       "   'https://i.ytimg.com/vi/MTRFDEPTDVs/hq720.jpg?sqp=-oaymwEXCNAFEJQDSFryq4qpAwkIARUAAIhCGAE=&rs=AOn4CLBT11xCyxTnyzjn-1WlEkGxs3yBcg'],\n",
       "  'title': \"한 번의 과정을 더 거치는 미국의 독특한 '선거인단 제도' 차이나는 클라스(jtbclecture) 173회 | JTBC 20200908 방송\",\n",
       "  'long_desc': None,\n",
       "  'channel': '교양 Voyage',\n",
       "  'duration': '3:18',\n",
       "  'views': '조회수 75,144회',\n",
       "  'publish_time': '4년 전',\n",
       "  'url_suffix': '/watch?v=MTRFDEPTDVs&pp=ygUN66-46rWtIOuMgOyEoA%3D%3D',\n",
       "  'video_url': 'http://youtube.com/watch?v=MTRFDEPTDVs&pp=ygUN66-46rWtIOuMgOyEoA%3D%3D',\n",
       "  'content': [Document(metadata={'source': 'MTRFDEPTDVs'}, page_content='그 아셀 1 결과는 2016년 다오 트럼프가 한국말 해외 워 결과 을 운영할 그건 2000 여행학교 나 더 받았는데 줬어요 4 이제 어떤 시스템이 길이 이렇게 된거 굉장히 좀 황당 하지요 예 그게 왜 이런 일이 발생 했냐면 미국의 갖은 굉장히 독특한 제도인 3 버 인 단 제도 때문이거든요 및 업무내용 것으로 본거 많이 들어봤지 뭐 하루에 단식 모르겠습니까 미국에서는 우리나라처럼 모든 유권자가 원하는 후보에게 한편씩 을 투표를 합니다 뭐 내 차이는 뭐냐면 후보자와 유권자 사이에 선거 행 다니라는 굉장히 독특한 9급 이 있는데요 이 선거인단 은 대체로 교유 초에 임무 빌에 따라서 감상 주제는 수제 사람 등 선거 있나니 하는 일은 이제 유권자들의 표를 본 다음에 최종 이 사람들이 유권자들의 의사를 반영을 해서 최종 투표를 하는 거예요 그런데 예를 들어 줄이면 캘리포니아는 미국에서 인구가 가장 많은 주요 에 캘리포니아는 선거인단 임 50개 주에서 가장 많습니다 50 사 성 명 미국에서 가장 인구수가 작은 주강 와이오밍 주거든요 또 아유 맹주는 인구가 작기 때문에 선거 임당 의사명 이렇게 배정이 되어 있어요 그러면 이제 이 선거인단 어떻게 배분을 하냐면 갱 분야에는 선거인단이 55명 그냥 그래서 민주당 후보인 클린턴이 전 한결 을 받고 공화당 프론트 부가 천 풀을 받았을 경우에 민주당의 한 표 라도 더 받았기 때문에 캘리포니아의 배정된 55명의 선거인단을 다 힐러리 클린턴 후보에게 주는 거에요 결국에는 점프가 더 많은 텅 거인 당을 획득을 해서 이게 뭐 의상은 없어요 난 우선 꼼마 담은 가고 뽑고 싶은데 쉴러 리가 더 받았단 이유로 난 빈 주장 쪽으로 가야 되는거 내게 선거인단이 사실 한주의 딱 하나를 정해진게 아니라 이제 선거전의 민주당 캘리포니아 지부 공화당 캘리포니아 지구가 각각의 선거인단 리스트를 만들어 그런 다음에 이제 집게를 보고 어 민주당 후보가 하더라도 더 받았네 하면 민주당의 삶과 임당 들이 마지막으로 투표를 하는 거죠 아 아 그러면 이성 건 어떻게 보면 선거인단을 뽑는 선거 해요 그래서 많은 분들이 한국에서 미국 선거가 간접 선거 다 5325 회원은 쓰시는데 감 갑 성분은 아니에요 간접 선거 는 국민들의 투표로 해서 지도자 를 뽑는 게 아니라 태양이 대통령을 임명을 한다거나 이런 경우를 간접 선거 라고 하는데 사실 미국 유권자들이 투표를 할 때 선거인단 에다가 투표를 하는 건 아니구요 우리처럼 그냥 표에 모바일 등 처럼 이렇게 적혀있어요 으 으 [음악] 으 합니다 으 [음악]')]}]"
      ]
     },
     "execution_count": 6,
     "metadata": {},
     "output_type": "execute_result"
    }
   ],
   "source": [
    "for v in videos:\n",
    "    # url_suffix를 이용하여 video_url을 만듭니다.\n",
    "    v['video_url'] = 'http://youtube.com' + v['url_suffix']\n",
    "    \n",
    "    # YoutubeLoader를 이용하여 비디오를 로드합니다.\n",
    "    loader = YoutubeLoader.from_youtube_url(\n",
    "        v['video_url'],\n",
    "        language=['ko', 'en']\n",
    "    )\n",
    "\n",
    "    v['content'] = loader.load()\n",
    "\n",
    "videos"
   ]
  },
  {
   "cell_type": "code",
   "execution_count": 7,
   "metadata": {},
   "outputs": [
    {
     "name": "stdout",
     "output_type": "stream",
     "text": [
      "총 영상 수: 5\n",
      "60분 이하 영상 수: 5\n"
     ]
    }
   ],
   "source": [
    "print('총 영상 수:', len(videos))\n",
    "# 영상 길이가 60분 이하인 영상만 남깁니다. \n",
    "videos = [v for v in videos if len(v['duration'].split(':')) < 3]\n",
    "print('60분 이하 영상 수:', len(videos))"
   ]
  },
  {
   "cell_type": "code",
   "execution_count": 9,
   "metadata": {},
   "outputs": [
    {
     "name": "stdout",
     "output_type": "stream",
     "text": [
      "content='안녕하세요! 어떻게 도와드릴까요?' additional_kwargs={'refusal': None} response_metadata={'token_usage': {'completion_tokens': 11, 'prompt_tokens': 10, 'total_tokens': 21, 'completion_tokens_details': {'accepted_prediction_tokens': 0, 'audio_tokens': 0, 'reasoning_tokens': 0, 'rejected_prediction_tokens': 0}, 'prompt_tokens_details': {'audio_tokens': 0, 'cached_tokens': 0}}, 'model_name': 'gpt-4o-mini-2024-07-18', 'system_fingerprint': 'fp_0392822090', 'id': 'chatcmpl-BWzyK8PBZ0MJtQbbJtlWzkHWG3VJT', 'service_tier': 'default', 'finish_reason': 'stop', 'logprobs': None} id='run--8b294e49-4ec4-4bcd-8578-1dbe87c785b3-0' usage_metadata={'input_tokens': 10, 'output_tokens': 11, 'total_tokens': 21, 'input_token_details': {'audio': 0, 'cache_read': 0}, 'output_token_details': {'audio': 0, 'reasoning': 0}}\n"
     ]
    }
   ],
   "source": [
    "from dotenv import load_dotenv\n",
    "load_dotenv()\n",
    "\n",
    "from langchain_openai import ChatOpenAI\n",
    "\n",
    "model = ChatOpenAI(model=\"gpt-4o-mini\")\n",
    "response = model.invoke(\"안녕?\")\n",
    "print(response)\n"
   ]
  },
  {
   "cell_type": "code",
   "execution_count": 10,
   "metadata": {},
   "outputs": [
    {
     "data": {
      "text/plain": [
       "'영상에서는 대선 후보들과 관련된 다양한 정치적 이슈들이 다루어졌습니다. \\n\\n첫 번째로, 이재명 민주당 후보가 홍준표 전 대구 시장에게 찬사를 보내고, 홍준표 시장의 지지자들이 이재명 후보를 지지한다는 내용이 전해졌습니다. 그러나 국민의 힘에서는 이에 대한 부정적인 반응이 많았고, 홍춘표 측에서는 지지 선언한 단체가 신뢰할 수 없는 외곽 조직이라고 선을 그었습니다.\\n\\n두 번째로는 이재명 후보가 대구 유세에서 외교 정책에 대해 발언한 내용이 언급되었습니다. 그는 특정 국가에 대한 적대감을 두지 않고 국익을 강조하는 실용 외교를 주장했습니다. 이 발언은 과거에도 논란이 되었으며, 국민의 힘에서는 이를 비판했습니다.\\n\\n세 번째로 김문수 후보가 대구 경북 지역에서 자신이 거짓말을 하지 않는 후보라고 주장하며, 이재명 후보와의 차별성을 강조하는 발언을 하였습니다. \\n\\n마지막으로, 스타벅스에서 대선 후보들의 이름을 닉네임으로 사용할 수 없도록 제한하는 조치에 대한 내용이 언급되었습니다. 이는 정치적 중립을 지키기 위한 목적이라는 설명이 뒤따랐습니다. \\n\\n이와 같이 대선 후보들의 발언 및 선택이 정치적 반응을 불러일으키고 있으며, 대선이 다가오면서 여러 가지 이슈들이 복잡하게 얽혀 있음을 보여주고 있습니다.'"
      ]
     },
     "execution_count": 10,
     "metadata": {},
     "output_type": "execute_result"
    }
   ],
   "source": [
    "from langchain_core.prompts import ChatPromptTemplate\n",
    "from langchain.chains.combine_documents import create_stuff_documents_chain\n",
    "\n",
    "# 동영상 요약 프롬프트 작성\n",
    "prompt = ChatPromptTemplate.from_messages(\n",
    "    [(\"system\", \"다음 영상에 대한 요약을 한국어로 만들어줘 :\\\\n\\\\n{context}\")]\n",
    ")\n",
    "\n",
    "chain = create_stuff_documents_chain(model, prompt)\n",
    "\n",
    "result = chain.invoke({\"context\": videos[0]['content']})\n",
    "result"
   ]
  },
  {
   "cell_type": "code",
   "execution_count": 11,
   "metadata": {},
   "outputs": [
    {
     "name": "stderr",
     "output_type": "stream",
     "text": [
      "100%|██████████| 5/5 [00:27<00:00,  5.43s/it]\n"
     ]
    },
    {
     "data": {
      "text/plain": [
       "[{'id': 'j49nHhfXvjY',\n",
       "  'thumbnails': ['https://i.ytimg.com/vi/j49nHhfXvjY/hq720.jpg?sqp=-oaymwEjCOgCEMoBSFryq4qpAxUIARUAAAAAGAElAADIQj0AgKJDeAE=&rs=AOn4CLDDMFg8nGds3FB_zZqGCfsntkCyAQ',\n",
       "   'https://i.ytimg.com/vi/j49nHhfXvjY/hq720.jpg?sqp=-oaymwEXCNAFEJQDSFryq4qpAwkIARUAAIhCGAE=&rs=AOn4CLAfcHgPX-DbNcw18GlVopTCiWgS1g'],\n",
       "  'title': '이재명 \"미국서 오시면 막걸리 한 잔\"…그러자 홍준표 SNS에선 [대선네컷] / SBS',\n",
       "  'long_desc': None,\n",
       "  'channel': 'SBS 뉴스',\n",
       "  'duration': '4:32',\n",
       "  'views': '조회수 310,751회',\n",
       "  'publish_time': '17시간 전',\n",
       "  'url_suffix': '/watch?v=j49nHhfXvjY&pp=ygUN66-46rWtIOuMgOyEoA%3D%3D',\n",
       "  'video_url': 'http://youtube.com/watch?v=j49nHhfXvjY&pp=ygUN66-46rWtIOuMgOyEoA%3D%3D',\n",
       "  'content': [Document(metadata={'source': 'j49nHhfXvjY'}, page_content='[음악] 대선 이야기들. 오늘도 대선네 코너에서 더 알아보겠습니다. 정치보 최재현 기자 나와 있습니다. 최기자 오늘 첫 번째 것은 홍준표 대구 시장인데 전개를 떠났는데도 요즘 이야기가 계속 나옵니다. 네. 먼저 이재명 민주당 후보가 어제 SNS에 올린 글부터 보겠습니다. 홍준표 전 대구 시장을 보시는 것처럼 선배님이라고 부르면서이 선배님의 국가 경령의 꿈 특히 좌우 통합 정보를 만들어 위기를 극복하고 전진하자는 말씀에 깊이 공감한다. 그리고 미국에서 돌아오시면 막걸리 한 잔 나누자고 썼습니다. 여기에 화답이라도 한 걸까요? 홍정시장을 앞서 이재명 나라에서 한번 살아봐라고 SNS에 글을 올렸었는데이 후보 글이 나온 뒤 삭제했습니다. 일부흥전 시장 지지자들은이 후보 지지를 선언하기도 했습니다. 이재명 후무님께서 통합을 갖다가 내쉬면서 또 우리가 추구하는 그런 가치를 공유를 하겠다. 그래도 홍전시장은 국민의 힘 대선경선 후보였는데 국민의 힘에서 이걸 어떻게 바라보고 있습니까? 네. 국민의 임에서는 맞듯한 반응이 많습니다. 안철수원 같은 경우에 이재명의 사탄 발림에 결코 흔들려서는 안 된다고 주장하게 됐습니다. 홍전 시장측은이 후보 지지를 선언한 단체는 실체가 불분명한 외곽 조직이라고 선을 긋기도 했는데이 홍전 시장 정개 은퇴 이후에 러브코를 더 많이 받는 거 같습니다. 네. 다음 두 번째 컵 보겠습니다. 이재명 후보가 유세를 하는 모습인데 오늘은 어떤 이야기를 했습니까?네 네. 오늘 대구유사 현장에서 이재명 민주당 후보가 이런 말을 했습니다. [박수] 제가 세세했습니다. 중국에도 세세하고 대만에도 세세하고 다른 나라하고 잘 지내면 되지. 대만하고 중국하고 싸우든지 말든지 그게 우리하고 무슨 상관이냐 이렇게 말했습니다. 네. 고맙다는 뜻에 중국어입니다. 과거에도 이재명 후보가 이런 말을 해서 논란이 됐었는데 왜 이런 말을 또 꺼낸 겁니까? 네. 지난해 3월이죠.이 총선을 앞두고 지역 유세를 하면서이 후보가 비슷한 말을 했었습니다.이 후보측은 특정 국가를 적으로 두지 않고 국익을 최우선으로 하는 실용 외교를 강조하다가 나온 말이라고 해명했고 국민의 힘은 친중행보다 판미에 부정적 영향을 줄 수 있다고 비판했었습니다. 이유보가 또다시이 말을 꺼낸 건 자신은 실용을 강조했을 뿐이라고 거듭 주장하려는 걸로 보입니다. 네. 다음 세 번째 컷 보겠습니다. 이번에는 김문수 후보 모습인데 역시 대구 경북 지역을 찾았죠. 네. 김은수보가 대구 경북 선거 대체기 출정식에서 그야말로 뼈 있는 얘기를 했습니다. 생긴게 벌써 뼈밖에 없잖아요. 그래서 저보고 제가 뼈돼 있는 집안에다 보니 뼈밖에 없습니다. 그래서 여러분들께서 김문수는이 거짓말 시기는 사람이 아니다. 이거 하나는 좀 많이 알려진 거 같은데 그래도 못 믿는 분 계시면 손 한번 들어 보세요. 재밌자고 한 말 같은데 뭐 어떤 뜻으로 말한 건가요?네 현장에서의이 농담을 섞어서 던진 말입니다.이 자신은 거짓말하는 후보가 아니다. 선거철의 달콤한 말로 표를 뺏어 가려는게 아니다. 특히 자신은 이재명 후보와는 다르다고 주장하다가 나온 발언이었습니다. 네. 마지막 것은 스타벅스 매장이 보이고 사용 불과라고 돼 있는데 스타벅스 매장을 못 쓴다는 겁니까? 뭘 못 쓴다는 겁니까? 네. 스태벅스 매장에서이 주문화 음료가 나오면은 닉네임을 사용하는 고객에겐 매장 직원이 닉네임을 불러서 음료가 준비됐다는 걸 알려줍니다. 그런데 대선일인 다음 달 3일까지는 이재명, 김문수, 이준석 등 대선후보 일곱명의 이름 그리고 여기에 윤성열 대통령의 이름까지 스타벅스 매장에서 닉네임으로 사용할 수 없게 됐다고 합니다.이 이 스타버스 측은 지금도 역설 같이 다른 고객에게 불쾌감을 줄 수 있는 닉네임은 사용을 제한하고 있다면서이 논란을 최소화하고 정치적 중립을 지키기 위한 조치라고 설명했습니다. SBS 최재형입니다.')],\n",
       "  'summary': '이번 영상에서는 대선과 관련된 여러 이야기를 다룹니다. 처음으로 이재명 민주당 후보가 홍준표 전 대구 시장에게 SNS를 통해 \"선배님\"이라며 통합의 필요성을 언급하고, 함께 막걸리를 나누자는 제안을 한 것이 소개됩니다. 이에 대해 홍준표 전 시장은 지지 선언을 한 일부 단체를 실체가 불분명한 외곽 조직으로 간주하며 선을 긋기도 했습니다.\\n\\n두 번째로 이재명 후보가 대구 유세 중 \"다른 나라와 잘 지내면 된다\"는 발언을 해 논란이 일었습니다. 이 발언은 실용 외교를 강조하는 맥락에서 나온 것으로 해명되지만, 국민의힘 측은 이를 비판하고 있습니다.\\n\\n세 번째로 김문수 후보가 대구경북 지역에서 \"나는 거짓말하는 후보가 아니다\"라는 발언을 하며, 이재명 후보와의 차별성을 강조했습니다.\\n\\n마지막으로 스타벅스에서는 대선 후보들의 이름을 닉네임으로 사용할 수 없도록 조치를 취한 사실이 알려졌습니다. 이는 정치적 중립을 유지하기 위한 조치라고 설명되었습니다.'},\n",
       " {'id': '4A3P9Tgm8wc',\n",
       "  'thumbnails': ['https://i.ytimg.com/vi/4A3P9Tgm8wc/hq720.jpg?sqp=-oaymwEjCOgCEMoBSFryq4qpAxUIARUAAAAAGAElAADIQj0AgKJDeAE=&rs=AOn4CLBiKa6FlGtJbPpVcHb4Nkfj_G7yqQ',\n",
       "   'https://i.ytimg.com/vi/4A3P9Tgm8wc/hq720.jpg?sqp=-oaymwEXCNAFEJQDSFryq4qpAwkIARUAAIhCGAE=&rs=AOn4CLA9dp_amuxkebdEB0E_Yg87rC4ZQA'],\n",
       "  'title': '[2020 미국 대선] 표 적게 받고도 대통령 된다? 복잡한 선거제도 6분 총정리 ❙ Won Less, but Elected Anyways? / 비디오머그',\n",
       "  'long_desc': None,\n",
       "  'channel': '비디오머그 - VIDEOMUG',\n",
       "  'duration': '5:50',\n",
       "  'views': '조회수 515,206회',\n",
       "  'publish_time': '4년 전',\n",
       "  'url_suffix': '/watch?v=4A3P9Tgm8wc&pp=ygUN66-46rWtIOuMgOyEoA%3D%3D',\n",
       "  'video_url': 'http://youtube.com/watch?v=4A3P9Tgm8wc&pp=ygUN66-46rWtIOuMgOyEoA%3D%3D',\n",
       "  'content': [Document(metadata={'source': '4A3P9Tgm8wc'}, page_content='[박수] 하지만 전체 득표수에 트럼프보다 20만 표 이상 더 얻은 것으로 드러나 독특한 미국 선거제도의 희생이 됐다는 트럼프보다 20만 표 이상 더 얻은 것으로 드러나 [음악] 그 미국 선거가 다른 나라와 가장 큰 차이를 가지는게 바로 선거인단이 건데요 유권자와 후보 사이에 그 중간자가 하나 존재한다고 생각하시면 될 거 같아요이 538명의 선거인단을 50개 주와 워싱턴 DC 여기에다가 이제 배분을 하는데 그래서 예를 들어서 캘리포니아주 같은 경우에 조바이든 후보와 트럼프 후보를 사람들이 이제 찍어요 그런데 집계를 해보니까 조바이든 후보가 천 한표 그다음에 트럼프 대통령이 표를 받았어요 그러면 캘리포니아 주는 인구가 굉장히 많아서 신 다섯명을 가져가거나 명을 한 표를 더 받은 조바이든 후보가 다 가져가는 거죠 그거를 전국 차원에서 집계를 해서 538명의 과반은 270명이아요 270명의 선거인 들 먼저 획득한 후보가 선거에서 이기게 되는 [음악] 거죠 물론 개인적인 입장에서 보면 내 표가 사표가 됐지만 미국 전역에서 보면 민주당이 우세인 지역도 있고 공화당이 우세인 지역도 있으니까 서로 사표가 돈이 된다고 해야 될까요 사실 미국 의회에 선거인단 제도를 없애자라고 법안이 몇백개가 지금까지 발휘가 되긴 했어요 하지만 단 한 번도 의회를 통과하지 못했는데 미국에 굉장히 오랫동안 존재했던이 제대로 없애면 어 우리당에 불리한 거 아니야 이런 근본적인 두려움이 있어서 사실 개혁이 안 이루어지고 있었거든요 굳이 선거인단 입장에서 그 후보한테 투표할 의무는 없는 거 아닌가요 그냥 속된말로 배신을 할 수 있는 건 아닌지네 맞습니다 사실 의문은 없어요 그래서 실제로 배신 투표가 가끔 일어나긴 해요음 미국의 이제 32개 주와 워싱턴 DC 같은 경우는 배신 투표를 했을 때 벌금을 매긴다 그나이 사람을 바로 선거인단에 빼 버린다거나 이런 식으로 할 수 있고요 반면에 이제 18개 주는 아무런 그 처벌 조항이 없어요 배신을 했다라는 거를 사람들이 다 알 수 있는 거예요네 왜냐면 선거인단 투표는 간식이든 [음악] 그래서 11월 3일에 이제 올해 투표를 하잖아요 각 주별로 이제 누가 한 표라도 더 받았는지 이제 집계를 하죠 그러면 선거인단이 이제 12월 14일에 각 주의 주도로 갑니다 거기에서 각각 후보 이름을 써내는 거예요 선거인단이 또 투표를 한 거를 공개하는 거는 내년 2021년 1월 6일 날 의회에서 하게 되는 거예요 그 과정까지가 사실 마무리가 되야 미국 대통령이 공식으로 이제 선출이 되는 죠 가끔 한국에서 미국 선거는 간접 선거라는 설명을 제가 볼 때가 있는데 미국은 직접 [음악] 선거예측 네 그다음에 오하이오 바로 옆에 있는 오하이오 르브론 제임스의 고향이죠 그다음에 미시건 GM 같은 미국의 자동차 산업이 많은 곳 그다음에 위스콘신 여기는 이제 뭐 밀워키 아든 이런 도시가 있고 그다음에 옥수수밭이 엄청 많은 아이와 그리고 마지막으로 이제 플로리다 여기 요렇게 지금 제가 스티커를 붙인 여섯 개 주가 왜 중요하냐면 2012년까지는요 스티커가 있는 주들이 파란색이 2016년에 빨간색으로 바뀐 거예요이 주들의 특징이 뭐냐면 저희가 지난번에 얘기했던 백인 블루 컬러 노동자들이 굉장히 많은 주들이 지난 2016년 선거에서 미국에서 한 1억 2천만 명 정도가 투표를 했거든요 근데 그 중에서 펜실베니아 미시건 위스콘신에 사는 10만 명의 표가 그 지난번 선거를 결정했다고 보시면 돼요 힐러리 클린턴 같은 경우에 선거가 끝난 다음에 많은 비판을 받은게 실 뉴욕이나 캘리포니아에서 펀드레이징 행사를 덜 하고 미시간이나 위스콘신에 가서 적극적으로 유권자들을 만났어야 하는데 캠프 내에서 미시간을 이제 경합주로 보지 않았기 때문에 전략에 이제 실패라고도 볼 수 있는 거죠 그래서 지금 조바이든 후보 보시면 정말 열심히 미시건 위스컨신 펜실베니아 가고 있거든요 2016년에 이제 패배를 교훈 삼아서 이번에 전략을 짠 거죠 우편 투표가 쉬울까요 투표소에 가서 투표를 하는게 쉬울까요 투자가 쉽겠죠 아 그럴까요 우편 투표를 하면 민주당의 유리한가 공화당의 유리한가 결론은 [음악]')],\n",
       "  'summary': '이번 영상에서는 미국의 독특한 선거 제도와 선거인단 시스템에 대한 설명이 이루어집니다. 일반 유권자와 후보 사이에 중간자가 존재하는 선거인단이 있으며, 각 주에서 얻은 표 수에 따라 선거인단이 배분됩니다. 예를 들어, 캘리포니아주에서 조 바이든 후보가 더 많은 표를 얻으면 해당 주의 모든 선거인단을 차지하게 됩니다. 전체 538명의 선거인단 중 270명을 확보한 후보가 승리하게 되며, 이 과정에서 사표가 발생할 수 있습니다.\\n\\n미국 의회에서는 선거인단 제도를 없애자는 법안이 다수 발의되었으나, 정치적 이해관계로 인해 통과되지 않았습니다. 선거인단은 의무적으로 특정 후보에게 투표할 의무는 없지만, 일부 주에서는 배신 투표에 대한 벌금이 존재합니다. 공식 투표 과정은 주별 집계 후 선거인단 투표, 그리고 의회에서의 공개 투표로 이어집니다.\\n\\n또한, 영상에서는 미국 대선에서 중요한 주들, 즉 경합주로 불리는 미시간, 펜실베니아, 위스콘신 등의 전략적 중요성에 대해 논의합니다. 이들 주의 유권자들은 지난 선거 결과에 큰 영향을 미쳤으며, 후보들은 이를 잘 알고 더욱 신경 쓰고 있는 상황입니다. 영상은 한편으로 우편 투표가 민주당 및 공화당에 미치는 영향에 관한 논의로 마무리됩니다.'},\n",
       " {'id': 'brHF-tV-p4Q',\n",
       "  'thumbnails': ['https://i.ytimg.com/vi/brHF-tV-p4Q/hq720.jpg?sqp=-oaymwEjCOgCEMoBSFryq4qpAxUIARUAAAAAGAElAADIQj0AgKJDeAE=&rs=AOn4CLC2QHqhFN4-OJZOCnMjbgI54bRx_g',\n",
       "   'https://i.ytimg.com/vi/brHF-tV-p4Q/hq720.jpg?sqp=-oaymwEXCNAFEJQDSFryq4qpAwkIARUAAIhCGAE=&rs=AOn4CLDHgbKYbEWE5Q_5Vvz0f_BdwbRFZw'],\n",
       "  'title': '최다 득표하고도 패배할 수 있다...독특한 미 대선 방식 / YTN',\n",
       "  'long_desc': None,\n",
       "  'channel': ' YTN',\n",
       "  'duration': '1:58',\n",
       "  'views': '조회수 24,172회',\n",
       "  'publish_time': '6개월 전',\n",
       "  'url_suffix': '/watch?v=brHF-tV-p4Q&pp=ygUN66-46rWtIOuMgOyEoA%3D%3D',\n",
       "  'video_url': 'http://youtube.com/watch?v=brHF-tV-p4Q&pp=ygUN66-46rWtIOuMgOyEoA%3D%3D',\n",
       "  'content': [Document(metadata={'source': 'brHF-tV-p4Q'}, page_content='미국 대선은 대통령 후보에 직접 투표하는게 아니라 특정 후보를 지지하기로 서약한 선거인단에 투표하는 간접 선거 방식입니다네 또 승자 독식자 제도 때문에 더 많이 득표한 후보가 당선되지 못할 수도 있는데요 미 대선의 특징과 절차를 조수현 기자가 정리했습니다 지난 2000년 미국 대선 당시 엘고어 후보가 전체 득표에서 앞섰지만 승은 부시 대통령이었습니다 2016년에는 힐러리클린턴 후보 가 약 70만 표를 더 얻고도 트럼프 대통령에 패했습니다 두 선거 모두 이런 결과가 나온 건 선거인단 때문이었습니다 미국 대서는 특정 후보를 지지하기로 서약한 선거인단 538 명을 선출하는 간접 선거 방식으로 치러집니다 538명 50개 주에서 선출되는 연방 상원 이원 100명에 하원 이원 435명 그리고 의원이 없는 수도 워싱턴 디시에 배정된 선거인단 세명을 더한 숫자 주별 선거인단 숫자는 인구 비례로 배분됩니다 따라서 인구가 가장 많은 캘리포니아가 쉬은 네명으로 가장 많고 이어 텍사스 플로리다 뉴욕 순입니다 인구가 적은 알래스카와 버몬트 등 여섯 개 주는 선거인단이 세명에 불과합니다 538명 중 270명 이상을 차지하는 후보가 승리하게 되는데 여기서 핵심은 승자독식제 네브라스카 메인주를 제외한 48개 주에서 한 표라도 더 얻은 후보가 해당주의 선거인단을 모두 차지하는 제도입니다이 때문에 전체 득표에서는 앞서고 최종적으로 질 수 있다는 겁니다 개표와 함께 당락은 사실상 확정되지만 다음 달 16일 선거인단이 대통령 후보에 대해 투표하는 형식적인 절차를 거쳐 내년 1월 6일 차기 대통령이 공표합니다 YTN 조수현 있니다')],\n",
       "  'summary': '미국 대선은 간접 선거 방식으로 진행되며, 유권자들은 특정 후보를 지지하는 선거인단에 투표합니다. 이 선거는 승자 독식 제도로 인해 전체 득표에서 더 많은 표를 얻은 후보도 최종적으로 패배할 수 있습니다. 예를 들어, 2000년 엘 고어 후보와 2016년 힐러리 클린턴 후보가 각각 전체 득표에서 앞섰음에도 불구하고 대통령직을 잃었습니다. 미국의 선거인단은 538명으로 구성되며, 주별 인구에 따라 배분됩니다. 48개 주에서는 승자 독식제가 적용되어 한 후보가 해당 주의 모든 선거인단을 차지합니다. 최종적으로 270명 이상의 선거인단을 확보한 후보가 승리합니다. 투표 결과는 즉시 발표되지만, 12월 16일 선거인단의 공식 투표 후 내년 1월 6일에 차기 대통령이 공표됩니다.'},\n",
       " {'id': 'miYH9Dn9dWo',\n",
       "  'thumbnails': ['https://i.ytimg.com/vi/miYH9Dn9dWo/hq720.jpg?sqp=-oaymwEjCOgCEMoBSFryq4qpAxUIARUAAAAAGAElAADIQj0AgKJDeAE=&rs=AOn4CLDxAVFv1QpoXRjXMQZPUV2DsyPJgg',\n",
       "   'https://i.ytimg.com/vi/miYH9Dn9dWo/hq720.jpg?sqp=-oaymwEXCNAFEJQDSFryq4qpAwkIARUAAIhCGAE=&rs=AOn4CLAvnNu2VBHFf9SLEv6RRCzDxnPHoQ'],\n",
       "  'title': '[자막뉴스] \"대선 전에\" 美, 한국 입장과 전혀 다른 내용...파장 예고 / YTN',\n",
       "  'long_desc': None,\n",
       "  'channel': ' YTN',\n",
       "  'duration': '2:26',\n",
       "  'views': '조회수 553,453회',\n",
       "  'publish_time': '2주 전',\n",
       "  'url_suffix': '/watch?v=miYH9Dn9dWo&pp=ygUN66-46rWtIOuMgOyEoA%3D%3D',\n",
       "  'video_url': 'http://youtube.com/watch?v=miYH9Dn9dWo&pp=ygUN66-46rWtIOuMgOyEoA%3D%3D',\n",
       "  'content': [Document(metadata={'source': 'miYH9Dn9dWo'}, page_content='백관는 트럼프 취임 배기를 맞아 이른 아침부터 브리핑을 했습니다. 트럼프 대통령이 물가도 낮추고 대규모 해외 투자도 유치했다며 성과를 나열하는 자리였습니다. 지의 응답에서는 곧 선거를 치르는 한국, 일본의 경우 관세 이회가 끝나는 7월 초까지 협상 마무리가 어려운 것 아닌지 질문이 나왔는데 아 센트 재무장관은 그 반대로 이해하고 있다며 이렇게 답변했습니다. United are정은 또 한국은 일본인도와 함께 협상에서 가장 적극적으로 협력하는 나라며 협상 윤곽이 점차 드러나고 있다고 말했습니다. 러트닉 사무장관은 CNBC와 인터뷰에서 이미 협상이 완료돼이 인준을 기다리는 나라도 있다고 말했지만 어느 나라인지 구체적으로 검명하진 않았습니다. 당장 자동차 부품 100%를 미국에서 조달할 수 없는게 현실인만큼 앞으로 2년 동안은 관세를 깎아 주겠다는게 골짜입니다. 아, 상무 고의당국자는 브리핑을 통해 미국에서 완성하는 자동차에 한해 부품 관세를 2년에 걸쳐 상쇄해 주겠다고 밝혔습니다. 첫에는 차값의 15%, 두 번째에는 10%만큼 부품 관세 25%를 받지 않겠다는 건데 전체 차값으로 따지면 각각 3.75%와 2.5%에 해당하는 금액입니다. 트럼프 대통령은 자동차 부품에 미국 내 생산이 가능할 때까지 잠시 시간을 주는 거라고 설명했습니다. 직접 들어보시죠. [음악] 혼조세로 시작한 뉴욕 증시는 트럼프 행정부의 자동차 관세 감면조치 발표 이후 일제 상승세로 전환했습니다. 입니다.')],\n",
       "  'summary': '백관은 트럼프 대통령의 취임을 맞아 이른 아침부터 브리핑을 진행했습니다. 이 자리에서 트럼프 대통령은 물가 인하와 대규모 해외 투자 유치 등의 성과를 강조했습니다. 브리핑 중 한국과 일본의 관세 협상 마무리 여부에 대한 질문이 있었고, 아 센트 재무장관은 한국과 일본이 협상에서 적극적으로 협력하고 있으며 윤곽이 드러나고 있다고 답했습니다. 러트닉 사무장관은 이미 협상이 완료된 나라가 있다고 언급했지만 구체적인 국가는 밝히지 않았습니다. 자동차 부품을 100% 미국에서 조달하는 것이 현실적으로 어렵기 때문에, 앞으로 2년 동안 관세를 인하해 주겠다는 선언이 있었습니다. 상무 고위당국자는 완성 자동차에 대한 부품 관세를 2년에 걸쳐 상쇄해 줄 것이라고 밝혔습니다. 트럼프 대통령은 자동차 부품의 미국 내 생산 가능성을 고려해 시간을 주는 것이라고 설명했습니다. 뉴욕 증시는 이러한 자동차 관세 감면 소식 이후 상승세로 전환했습니다.'},\n",
       " {'id': 'MTRFDEPTDVs',\n",
       "  'thumbnails': ['https://i.ytimg.com/vi/MTRFDEPTDVs/hq720.jpg?sqp=-oaymwEjCOgCEMoBSFryq4qpAxUIARUAAAAAGAElAADIQj0AgKJDeAE=&rs=AOn4CLADiWveGohq6aZ_QQUPwKq89z8RSA',\n",
       "   'https://i.ytimg.com/vi/MTRFDEPTDVs/hq720.jpg?sqp=-oaymwEXCNAFEJQDSFryq4qpAwkIARUAAIhCGAE=&rs=AOn4CLBT11xCyxTnyzjn-1WlEkGxs3yBcg'],\n",
       "  'title': \"한 번의 과정을 더 거치는 미국의 독특한 '선거인단 제도' 차이나는 클라스(jtbclecture) 173회 | JTBC 20200908 방송\",\n",
       "  'long_desc': None,\n",
       "  'channel': '교양 Voyage',\n",
       "  'duration': '3:18',\n",
       "  'views': '조회수 75,144회',\n",
       "  'publish_time': '4년 전',\n",
       "  'url_suffix': '/watch?v=MTRFDEPTDVs&pp=ygUN66-46rWtIOuMgOyEoA%3D%3D',\n",
       "  'video_url': 'http://youtube.com/watch?v=MTRFDEPTDVs&pp=ygUN66-46rWtIOuMgOyEoA%3D%3D',\n",
       "  'content': [Document(metadata={'source': 'MTRFDEPTDVs'}, page_content='그 아셀 1 결과는 2016년 다오 트럼프가 한국말 해외 워 결과 을 운영할 그건 2000 여행학교 나 더 받았는데 줬어요 4 이제 어떤 시스템이 길이 이렇게 된거 굉장히 좀 황당 하지요 예 그게 왜 이런 일이 발생 했냐면 미국의 갖은 굉장히 독특한 제도인 3 버 인 단 제도 때문이거든요 및 업무내용 것으로 본거 많이 들어봤지 뭐 하루에 단식 모르겠습니까 미국에서는 우리나라처럼 모든 유권자가 원하는 후보에게 한편씩 을 투표를 합니다 뭐 내 차이는 뭐냐면 후보자와 유권자 사이에 선거 행 다니라는 굉장히 독특한 9급 이 있는데요 이 선거인단 은 대체로 교유 초에 임무 빌에 따라서 감상 주제는 수제 사람 등 선거 있나니 하는 일은 이제 유권자들의 표를 본 다음에 최종 이 사람들이 유권자들의 의사를 반영을 해서 최종 투표를 하는 거예요 그런데 예를 들어 줄이면 캘리포니아는 미국에서 인구가 가장 많은 주요 에 캘리포니아는 선거인단 임 50개 주에서 가장 많습니다 50 사 성 명 미국에서 가장 인구수가 작은 주강 와이오밍 주거든요 또 아유 맹주는 인구가 작기 때문에 선거 임당 의사명 이렇게 배정이 되어 있어요 그러면 이제 이 선거인단 어떻게 배분을 하냐면 갱 분야에는 선거인단이 55명 그냥 그래서 민주당 후보인 클린턴이 전 한결 을 받고 공화당 프론트 부가 천 풀을 받았을 경우에 민주당의 한 표 라도 더 받았기 때문에 캘리포니아의 배정된 55명의 선거인단을 다 힐러리 클린턴 후보에게 주는 거에요 결국에는 점프가 더 많은 텅 거인 당을 획득을 해서 이게 뭐 의상은 없어요 난 우선 꼼마 담은 가고 뽑고 싶은데 쉴러 리가 더 받았단 이유로 난 빈 주장 쪽으로 가야 되는거 내게 선거인단이 사실 한주의 딱 하나를 정해진게 아니라 이제 선거전의 민주당 캘리포니아 지부 공화당 캘리포니아 지구가 각각의 선거인단 리스트를 만들어 그런 다음에 이제 집게를 보고 어 민주당 후보가 하더라도 더 받았네 하면 민주당의 삶과 임당 들이 마지막으로 투표를 하는 거죠 아 아 그러면 이성 건 어떻게 보면 선거인단을 뽑는 선거 해요 그래서 많은 분들이 한국에서 미국 선거가 간접 선거 다 5325 회원은 쓰시는데 감 갑 성분은 아니에요 간접 선거 는 국민들의 투표로 해서 지도자 를 뽑는 게 아니라 태양이 대통령을 임명을 한다거나 이런 경우를 간접 선거 라고 하는데 사실 미국 유권자들이 투표를 할 때 선거인단 에다가 투표를 하는 건 아니구요 우리처럼 그냥 표에 모바일 등 처럼 이렇게 적혀있어요 으 으 [음악] 으 합니다 으 [음악]')],\n",
       "  'summary': '이 영상은 미국 대선에서 선거인단 제도에 대해 설명하고 있습니다. 미국은 유권자가 직접 후보에게 투표하는 것이 아니라, 유권자와 후보자 사이에 있는 선거인단을 통해 최종 투표가 이루어집니다. 각 주마다 배정된 선거인단의 수는 인구에 따라 다르며, 예를 들어 캘리포니아는 55명의 선거인단을 보유하고 있습니다. 선거인단은 각 주에서 가장 많은 표를 받은 후보에게 모든 선거인단의 표를 부여하게 됩니다. 이 과정에서 유권자는 실제로 선거인단에게 투표하는 것이 아니라, 후보에게 직접 표를 던지는 방식입니다. 이러한 시스템은 미국의 대선에서 독특한 제도로 여겨지며, 간접 선거와는 다르게 운영됩니다.'}]"
      ]
     },
     "execution_count": 11,
     "metadata": {},
     "output_type": "execute_result"
    }
   ],
   "source": [
    "# 모든 비디오에 대해 요약을 생성\n",
    "from tqdm import tqdm # tqdm은 진행 상황을 보여주는 라이브러리\n",
    "\n",
    "for v in tqdm(videos):\n",
    "    v['summary'] = chain.invoke({\"context\": v['content']})\n",
    "   \n",
    "videos"
   ]
  },
  {
   "cell_type": "code",
   "execution_count": null,
   "metadata": {},
   "outputs": [],
   "source": []
  }
 ],
 "metadata": {
  "kernelspec": {
   "display_name": "venv",
   "language": "python",
   "name": "python3"
  },
  "language_info": {
   "codemirror_mode": {
    "name": "ipython",
    "version": 3
   },
   "file_extension": ".py",
   "mimetype": "text/x-python",
   "name": "python",
   "nbconvert_exporter": "python",
   "pygments_lexer": "ipython3",
   "version": "3.12.9"
  }
 },
 "nbformat": 4,
 "nbformat_minor": 2
}
