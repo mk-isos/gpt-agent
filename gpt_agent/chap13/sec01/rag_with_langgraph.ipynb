{
 "cells": [
  {
   "cell_type": "code",
   "execution_count": 4,
   "metadata": {},
   "outputs": [
    {
     "name": "stdout",
     "output_type": "stream",
     "text": [
      "../data/2040_seoul_plan.pdf\n",
      "../data/OneNYC_2050_Strategic_Plan.pdf\n"
     ]
    }
   ],
   "source": [
    "from glob import glob \n",
    "\n",
    "for g in glob('../data/*.pdf'):\n",
    "    print(g)"
   ]
  },
  {
   "cell_type": "code",
   "execution_count": 2,
   "metadata": {},
   "outputs": [
    {
     "name": "stdout",
     "output_type": "stream",
     "text": [
      "../../chap09/data/2040_seoul_plan.pdf\n",
      "../../chap09/data/OneNYC_2050_Strategic_Plan.pdf\n"
     ]
    }
   ],
   "source": [
    "from glob import glob\n",
    "\n",
    "for g in glob('../../chap09/data/*.pdf'):\n",
    "    print(g)\n"
   ]
  },
  {
   "cell_type": "code",
   "execution_count": 3,
   "metadata": {},
   "outputs": [],
   "source": [
    "from langchain_community.document_loaders import PyPDFLoader\n",
    "from langchain_text_splitters import RecursiveCharacterTextSplitter\n",
    "\n",
    "def read_pdf_and_split_text(pdf_path, chunk_size=1000, chunk_overlap=100):\n",
    "    \"\"\"\n",
    "    주어진 PDF 파일을 읽고 텍스트를 분할합니다.\n",
    "    매개변수:\n",
    "        pdf_path (str): PDF 파일의 경로.\n",
    "        chunk_size (int, 선택적): 각 텍스트 청크의 크기. 기본값은 1000입니다.\n",
    "        chunk_overlap (int, 선택적): 청크 간의 중첩 크기. 기본값은 100입니다.\n",
    "    반환값:\n",
    "        list: 분할된 텍스트 청크의 리스트.\n",
    "    \"\"\"\n",
    "    print(f\"PDF: {pdf_path} -----------------------------\")\n",
    "\n",
    "    pdf_loader = PyPDFLoader(pdf_path)\n",
    "    data_from_pdf = pdf_loader.load()\n",
    "\n",
    "    text_splitter = RecursiveCharacterTextSplitter(\n",
    "        chunk_size=chunk_size, chunk_overlap=chunk_overlap\n",
    "    )\n",
    "\n",
    "    splits = text_splitter.split_documents(data_from_pdf)\n",
    "    \n",
    "    print(f\"Number of splits: {len(splits)}\\n\")\n",
    "    return splits"
   ]
  },
  {
   "cell_type": "code",
   "execution_count": 6,
   "metadata": {},
   "outputs": [
    {
     "name": "stdout",
     "output_type": "stream",
     "text": [
      "Loading existing Chroma store\n",
      "Vectorstore setup completed.\n"
     ]
    }
   ],
   "source": [
    "from dotenv import load_dotenv\n",
    "import os\n",
    "from glob import glob\n",
    "\n",
    "from langchain_openai import OpenAIEmbeddings\n",
    "from langchain_chroma import Chroma\n",
    "\n",
    "# .env 파일 로드 및 API 키 설정\n",
    "load_dotenv()\n",
    "api_key = os.getenv(\"OPENAI_API_KEY\")\n",
    "\n",
    "# PDF 파일을 로드하고 텍스트를 분할하는 함수\n",
    "def read_pdf_and_split_text(pdf_path):\n",
    "    from langchain_community.document_loaders import PyPDFLoader\n",
    "    from langchain_text_splitters import RecursiveCharacterTextSplitter\n",
    "\n",
    "    loader = PyPDFLoader(pdf_path)\n",
    "    docs = loader.load()\n",
    "\n",
    "    splitter = RecursiveCharacterTextSplitter(\n",
    "        chunk_size=1000,\n",
    "        chunk_overlap=100\n",
    "    )\n",
    "    return splitter.split_documents(docs)\n",
    "\n",
    "# 임베딩 모델 초기화\n",
    "embedding = OpenAIEmbeddings(\n",
    "    model='text-embedding-3-large',\n",
    "    api_key=api_key\n",
    ")\n",
    "\n",
    "# 벡터스토어 저장 디렉토리 경로\n",
    "persist_directory = '../chroma_store'\n",
    "\n",
    "# 벡터스토어 초기화 또는 새로 생성\n",
    "if os.path.exists(persist_directory):\n",
    "    print(\"Loading existing Chroma store\")\n",
    "    vectorstore = Chroma(\n",
    "        persist_directory=persist_directory,\n",
    "        embedding_function=embedding\n",
    "    )\n",
    "else:\n",
    "    print(\"Creating new Chroma store\")\n",
    "    vectorstore = None\n",
    "    for g in glob('../chap09/data/*.pdf'):  # PDF 파일 경로 확인 필요\n",
    "        chunks = read_pdf_and_split_text(g)\n",
    "        for i in range(0, len(chunks), 100):\n",
    "            if vectorstore is None:\n",
    "                vectorstore = Chroma.from_documents(\n",
    "                    documents=chunks[i:i+100],\n",
    "                    embedding=embedding,\n",
    "                    persist_directory=persist_directory\n",
    "                )\n",
    "            else:\n",
    "                vectorstore.add_documents(documents=chunks[i:i+100])\n",
    "\n",
    "print(\"Vectorstore setup completed.\")\n"
   ]
  },
  {
   "cell_type": "code",
   "execution_count": 7,
   "metadata": {},
   "outputs": [
    {
     "name": "stdout",
     "output_type": "stream",
     "text": [
      "{'author': 'SI', 'creationdate': '2024-12-12T18:16:11+09:00', 'creator': 'Hwp 2020 11.0.0.5178', 'moddate': '2024-12-12T18:16:11+09:00', 'page': 63, 'page_label': '64', 'pdfversion': '1.4', 'producer': 'Hancom PDF 1.3.0.542', 'source': '/Users/moonki/Desktop/gpt-agent/gpt_agent/chap09/data/2040_seoul_plan.pdf', 'total_pages': 205}\n",
      "56제2장 미래상과 목표\n",
      "6. 미래위기를 준비하는, ‘탄소중립 안전도시 구축’1) 배경전(全) 지구적인 기후변화에 대응하기 위한 대도시 차원의 대응 필요Ÿ서울시 2017년 온실가스 배출량은 46,685천 톤CO2eq로 2005년 배출량에 비해 5.6%(276만 톤CO2eq) 감소하였으며, 서울의 1인당 온실가스 배출량은 4.7CO2eq로 국가의 13.8톤CO2eq에 비해 낮은 수준이다. 또한 2014년 기준 서울의 1인당 온실가스 배출량은 4.5CO2eq로 세계 주요 도시에 비해 낮은 수준을 보인다.7)\n",
      "[그림 2-26] 세계 주요 도시 1인당 온실가스 배출량   자료: World Bank, 2014Ÿ그럼에도 불구하고, 기후변화 문제는 21세기에 전 지구적으로 가장 위중한 영향을 미칠 것으로 예상되는바, 탄소중립과 기후위기 대응은 국제·국가·도시의 핵심 정책으로 다루어져야 한다.Ÿ파리협정(2015) 이후, 우리나라를 비롯한 미국, 유럽연합 등 세계 136개국이 탄소중립을 선언하였으며, 서울시를 비롯한 뉴욕, 런던 등과 같은 많은 글로벌 도시에서 탄소중립을 시정의 핵심과제로 추진 중이다.Ÿ우리나라는 2020년 ‘한국판 그린뉴딜’을 발표하며 공식적으로 2050 탄소중립을 선언하였으며 서울시 역시 2020년 ‘그린뉴딜 추진을 통한 2050 온실가스 감축 전략’을 발표하고 탄소중립 선언에 따른 부문별 사업을 적극 추진하고 있다.-서울시는 2050년 탄소중립을 목표로 2030년까지 2005년 배출량 대비 40%, 2040년까지 70% 감축목표를 제시하였고, 2022년 기후변화대응종합계획을 수립하여, 향후 5년간(’22~’26년) 2005년 대비 온실가스 30% 감축목표와 구체적인 실행계획을 수립하였음7) 황인창 외, 2020, 파리협정 이행 위한 서울시 ‘2050 탄소중립’ 전략, 서울연구원, pp.6-9.\n",
      "제3절 2040 서울도시기본계획 7대 목표57Ÿ특히, 서울시는 현재 온실가스 배출량의 90%를 차지하고 있는 건물과 수송 부문 감축을 위해 적극적인 대책을 마련하고 있다.-2026\n",
      "{'author': 'SI', 'creationdate': '2024-12-12T18:16:11+09:00', 'creator': 'Hwp 2020 11.0.0.5178', 'moddate': '2024-12-12T18:16:11+09:00', 'page': 64, 'page_label': '65', 'pdfversion': '1.4', 'producer': 'Hancom PDF 1.3.0.542', 'source': '/Users/moonki/Desktop/gpt-agent/gpt_agent/chap09/data/2040_seoul_plan.pdf', 'total_pages': 205}\n",
      "제3절 2040 서울도시기본계획 7대 목표57Ÿ특히, 서울시는 현재 온실가스 배출량의 90%를 차지하고 있는 건물과 수송 부문 감축을 위해 적극적인 대책을 마련하고 있다.-2026년까지 건물 에너지효율화사업 100만 호를 추진, 건물온실가스총량제, 신규건물 제로에너지 건물(ZEB) 의무화를 통해 기존 및 신규건물의 제로에너지화를 촉진-수송 부문 배출감축을 위해 전기차 비중을 2026년까지 10%(’21년 5.2만 대 → ’26년 40만 대)로 확대하고, 22만기의 충전 인프라 구축을 계획 중(’21년 2만기) 시민 생활과 안전을 위한 기후위기 대응 요구 심화Ÿ서울은 인구, 시설 등이 밀집해 있는 대도시로 기온 상승, 폭염, 집중호우, 태풍, 한파 등 극한 기후 현상이 더욱 빈번하게 발생할 것으로 전망된다. 이러한 기후위험은 서울시민의 일상생활과 안전을 크게 위협할 수 있다. 따라서 시민의 일상을 보호하고 도시의 회복력을 강화하기 위한 적극적인 기후위기 대응 전략이 필요하다.Ÿ특히 다양화·복합화되는 재난안전사고에 대응해 전통적인 자연·사회재난의 범주뿐 아니라, 신종 복합재난까지 대비할 수 있는 다면적인 대응체계 마련이 요구된다.2) 추진전략탄소중립·기후위기 적응대책은 시의 모든 정책과 사업의 주요 원칙으로 고려Ÿ탄소중립은 돌이키기 어려운 기후재난을 막기 위한 국제사회와의 약속이기에 시의 모든 정책과 사업의 결정 과정에서 주요하게 고려해야 할 포괄적 ‘원칙’으로 확립되어야 한다.-서울시는 온실가스 감축 방안을 모든 예산사업에 고려·반영하기 위해 2021년부터 기후예산제 시범사업을 진행 중Ÿ모든 실·국·본부와 관련 이해 당사자들은 이러한 원칙과 기본 방향에 적극적으로 참여할 필요가 있으며 기후변화로 인한 폭염, 홍수, 가뭄 등과 같은 기상재해는 향후 지속적으로 발생할 가능성이 높아, 정책 수립 시 주요하게 고려한다.장기적·구조적 전환을 위해 도시계획 단계에서의 탄소중립·기후위기 적응대책 반영Ÿ탄소중립 및 기후위기 대책을 개별 사업 단위로 마련해 왔으나, 앞으로는\n",
      "이해 당사자들은 이러한 원칙과 기본 방향에 적극적으로 참여할 필요가 있으며 기후변화로 인한 폭염, 홍수, 가뭄 등과 같은 기상재해는 향후 지속적으로 발생할 가능성이 높아, 정책 수\n",
      "{'author': 'SI', 'creationdate': '2024-12-12T18:16:11+09:00', 'creator': 'Hwp 2020 11.0.0.5178', 'moddate': '2024-12-12T18:16:11+09:00', 'page': 187, 'page_label': '188', 'pdfversion': '1.4', 'producer': 'Hancom PDF 1.3.0.542', 'source': '/Users/moonki/Desktop/gpt-agent/gpt_agent/chap09/data/2040_seoul_plan.pdf', 'total_pages': 205}\n",
      "180제6장 계획의 실현\n",
      "부문지표명지표의 통계명내용 및 산정식출처목표치 및 관리방향\n",
      "기후·환경\n",
      "탄소중립온실가스 배출량건물·수송·폐기물 처리 등에 따른 서울의 온실가스 배출량서울시 내부자료(기후환경정책과)2005년 대비 70% 감축대기질개선초미세먼지 농도*서울시 대기 중 2.5㎛보다 작은 초미세먼지의 농도서울특별시 대기환경정보10㎍/㎥(2040)신재생에너지신재생에너지 보급률*서울시 총 에너지보급량 중 신·재생에너지 보급 비율한국에너지공단21%(2030)탄소배출감축건물 에너지 효율화 사업 수에너지다소비건물, 공공건물, 상업건물, 주택 등에 대한 건물에너지효율화 사업 개소수(누적) 서울시 내부자료(친환경건물과)100만 호(2026)자원순환인구당 생활폐기물 발생량(매립률)서울시민 1인당 하루 평균 생활폐기물 배출량(서울 하루 평균 생활폐기물 배출량/인구 수)과 생활폐기물 중 매립되는 비율 서울통계0.86㎏/인/일(2027)물순환물재이용량*빗물, 중수도시설, 하수처리수로 대체하여 이용한 물의 양서울시 내부자료(수변감성도시과)증가녹지환경만족녹지환경만족도시민이 현재 거주하는 지역의 녹지환경(공원, 숲 등)에 대하여 만족하는 정도서울서베이증가공원확충1인당 공원면적*공원 면적(도시자연공원구역+도시계획시설 공원+국립공원)/인구수서울시 공원통계증가수변공간활성화한강공원 이용객수산책, 낚시, 자전거, 인라인, 운동·수상시설, 수영장, 행사 등을 위하여 한강공원을 이용한 이용객 수서울시 통계정보시스템증가\n",
      "안전·방재\n",
      "안전·방재\n",
      "자연재난자연재난 피해액(이재민 수)자연재난에 따른 피해액과 이재민 수 행정안전부 재해연보감소사회재난사회재난 사고건수(사망자 수)*사회재난(화재, 붕괴, 폭발, 철도, 가\n",
      "{'author': 'SI', 'creationdate': '2024-12-12T18:16:11+09:00', 'creator': 'Hwp 2020 11.0.0.5178', 'moddate': '2024-12-12T18:16:11+09:00', 'page': 85, 'page_label': '86', 'pdfversion': '1.4', 'producer': 'Hancom PDF 1.3.0.542', 'source': '/Users/moonki/Desktop/gpt-agent/gpt_agent/chap09/data/2040_seoul_plan.pdf', 'total_pages': 205}\n",
      "[표 3-5] 기후·환경 부문별 전략계획\n",
      "제4절 기후·환경 부문792. 세부추진 방안3-1 2050 탄소중립을 실현을 위한 도시 인프라 전환3-1-1 건물 부문의 탄소배출을 감축하기 위한 친환경 기술 개발 및 적극 적용Ÿ\n",
      "{'author': 'SI', 'creationdate': '2024-12-12T18:16:11+09:00', 'creator': 'Hwp 2020 11.0.0.5178', 'moddate': '2024-12-12T18:16:11+09:00', 'page': 62, 'page_label': '63', 'pdfversion': '1.4', 'producer': 'Hancom PDF 1.3.0.542', 'source': '/Users/moonki/Desktop/gpt-agent/gpt_agent/chap09/data/2040_seoul_plan.pdf', 'total_pages': 205}\n",
      "제3절 2040 서울도시기본계획 7대 목표55공중, 지상, 지하 등 다차원 신(新) 물류네트워크 구축Ÿ도심 내 물류 수요가 급격히 증가할 것에 대비하여, 공중 활용을 위한 드론 배송 인프라 조성, 지상부의 물류 로봇 배송, 지하철을 활용한 지하 배송체계 구축 등 ‘공중+지상+지하’를 모두 활용하는 ‘3차원 물류네트워크’를 구축한다.\n",
      "[그림 2-25] 수직적·수평적 확장을 통한 입체적 교통체계 구축\n",
      "56제2장 미래상과 목표\n",
      "6. 미래위기를 준비하는, ‘탄소중립 안전도시 구축’1) 배경전(全) 지구적인 기후변화에 대응하기 위한 대도시 차원의 대응 필요Ÿ서울시 2017년 온실가스\n"
     ]
    }
   ],
   "source": [
    "retriever = vectorstore.as_retriever(search_kwargs={\"k\": 5})\n",
    "\n",
    "chunks = retriever.invoke(\"서울 온실가스 저감 계획\")\n",
    "\n",
    "for chunk in chunks:\n",
    "    print(chunk.metadata)\n",
    "    print(chunk.page_content)"
   ]
  },
  {
   "cell_type": "code",
   "execution_count": 8,
   "metadata": {},
   "outputs": [
    {
     "data": {
      "text/plain": [
       "AIMessage(content='안녕하세요! 어떻게 도와드릴까요?', additional_kwargs={'refusal': None}, response_metadata={'token_usage': {'completion_tokens': 11, 'prompt_tokens': 10, 'total_tokens': 21, 'completion_tokens_details': {'accepted_prediction_tokens': 0, 'audio_tokens': 0, 'reasoning_tokens': 0, 'rejected_prediction_tokens': 0}, 'prompt_tokens_details': {'audio_tokens': 0, 'cached_tokens': 0}}, 'model_name': 'gpt-4o-mini-2024-07-18', 'system_fingerprint': 'fp_0392822090', 'id': 'chatcmpl-BX1Fc2U0Cj0z7aB09IXKhDUeetJme', 'service_tier': 'default', 'finish_reason': 'stop', 'logprobs': None}, id='run--5332dfbd-a14b-4548-85ac-2edfe614eef7-0', usage_metadata={'input_tokens': 10, 'output_tokens': 11, 'total_tokens': 21, 'input_token_details': {'audio': 0, 'cache_read': 0}, 'output_token_details': {'audio': 0, 'reasoning': 0}})"
      ]
     },
     "execution_count": 8,
     "metadata": {},
     "output_type": "execute_result"
    }
   ],
   "source": [
    "from langchain_openai import ChatOpenAI\n",
    "\n",
    "# 모델 초기화\n",
    "model = ChatOpenAI(model=\"gpt-4o-mini\")\n",
    "model.invoke('안녕하세요!')"
   ]
  },
  {
   "cell_type": "code",
   "execution_count": 9,
   "metadata": {},
   "outputs": [],
   "source": [
    "# Router 설정\n",
    "from langchain_core.prompts import ChatPromptTemplate\n",
    "from typing import Literal # 문자열 리터럴 타입을 지원하는 typing 모듈의 클래스\n",
    "from pydantic import BaseModel, Field\n",
    "\n",
    "# Data model\n",
    "class RouteQuery(BaseModel):\n",
    "    \"\"\"사용자 쿼리를 가장 관련성이 높은 데이터 소스로 라우팅합니다.\"\"\"\n",
    "    \n",
    "    datasource: Literal[\"vectorstore\", \"casual_talk\"] = Field(\n",
    "        ...,\n",
    "        description=\"\"\"\n",
    "        사용자 질문에 따라 casual_talk 또는 vectorstore로 라우팅합니다.\n",
    "        - casual_talk: 일상 대화를 위한 데이터 소스. 사용자가 일상적인 질문을 할 때 사용합니다.\n",
    "        - vectorstore: 사용자 질문에 답하기 위해 RAG로 vectorstore 검색이 필요한 경우 사용합니다.\n",
    "        \"\"\",\n",
    "    )"
   ]
  },
  {
   "cell_type": "code",
   "execution_count": 10,
   "metadata": {},
   "outputs": [],
   "source": [
    "# 특정 모델을 structured output (구조화된 출력)과 함께 사용하기 위해 설정\n",
    "structured_llm_router = model.with_structured_output(RouteQuery)\n",
    "\n",
    "router_system = \"\"\"\n",
    "당신은 사용자의 질문을 vectorstore 또는 casual_talk으로 라우팅하는 전문가입니다.\n",
    "- vectorstore에는 서울, 뉴욕의 발전계획과 관련된 문서가 포함되어 있습니다. 이 주제에 대한 질문에는 vectorstore를 사용하십시오.\n",
    "- 사용자의 질문이 일상 대화에 관련된 경우 casual_talk을 사용하십시오.\n",
    "\"\"\"\n",
    "\n",
    "# 시스템 메시지와 사용자의 질문을 포함하는 프롬프트 템플릿 생성\n",
    "route_prompt = ChatPromptTemplate.from_messages([\n",
    "    (\"system\", router_system),\n",
    "    (\"human\", \"{question}\"),\n",
    "])\n",
    "\n",
    "# 라우터 프롬프트와 구조화된 출력 모델을 결합한 객체\n",
    "question_router = route_prompt | structured_llm_router"
   ]
  },
  {
   "cell_type": "code",
   "execution_count": 11,
   "metadata": {},
   "outputs": [
    {
     "name": "stdout",
     "output_type": "stream",
     "text": [
      "datasource='vectorstore'\n",
      "datasource='casual_talk'\n"
     ]
    }
   ],
   "source": [
    "print(\n",
    "    question_router.invoke({\n",
    "        \"question\": \"서울 온실가스 저감 계획은 무엇인가요?\"\n",
    "    })\n",
    ")\n",
    "\n",
    "print(question_router.invoke({\"question\": \"잘 지냈어?\"}))"
   ]
  },
  {
   "cell_type": "code",
   "execution_count": 12,
   "metadata": {},
   "outputs": [],
   "source": [
    "from langchain_core.prompts import PromptTemplate\n",
    "\n",
    "class GradeDocuments(BaseModel):\n",
    "    \"\"\"검색된 문서가 질문과 관련성 있는지 yes 또는 no로 평가합니다.\"\"\"\n",
    "\n",
    "    binary_score: Literal[\"yes\", \"no\"] = Field(\n",
    "        description=\"문서가 질문과 관련이 있는지 여부를 'yes' 또는 'no'로 평가합니다.\"\n",
    "    )\n",
    "\n",
    "structured_llm_grader = model.with_structured_output(GradeDocuments)"
   ]
  },
  {
   "cell_type": "code",
   "execution_count": 13,
   "metadata": {},
   "outputs": [
    {
     "name": "stdout",
     "output_type": "stream",
     "text": [
      "page_content='36제2장 미래상과 목표\n",
      "6) 미래교통수단의 등장과 첨단 인프라 요구 증대자율주행, UAM 등 미래 교통에 공간적 대응방안 마련 필요Ÿ자율주행차량, 전동킥보드 등 교통 기술의 발전에 따라 새로운 교통환경이 조성되고 있음에도 불구하고, 이에 대한 정착 가이드라인이 없어, 위험한 교통 사고가 유발되고 있다.-최근 3년간 서울시에서 발생한 전동킥보드 관련 사고 대다수는 전동 킥보드와 차량 간 충돌 사고Ÿ안전하고 효율적인 기존-신규 교통수단의 조화를 도모하고, 이와 함께 발생할 도시공간구조 변화에 대비하기 위해 통합적인 교통수단 정착 가이드라인이 필요하다.7) 시가지 공간의 포화, 개발가용지의 부족새로운 도시공간에 대한 수요 대응과 성장동력 확보 한계Ÿ서울의 녹지지역을 제외한 대부분의 개발가용지는 고갈된 상태이며, 남은 공간은 주택공급을 위주로 개발하고 있다.-서울시에서 개발제한구역 25%를 제외하면 65%에 해당하는 시가화면적 366㎢ 중 미개발지는 거의 없는 상태Ÿ외연적 팽창이 아닌, 선택과 집중을 통한 콤팩트 시티로의 공간구조 재편을 지향하고 복합 개발을 통해 약해진 도시경쟁력 강화가 필요한 시점이다.8) 늙어가는 서울, 도시 정비의 정체에 따른 환경 악화정비사업 추진동력 저하, 쾌적한 도시환경에 대한 요구 증대Ÿ2038년 서울시 기반시설 노후화 비율은 2018년 대비 2.7배 급증, 1960~70년대 집중 조성된 기반시설의 노후화에 따른 시설 안전성 확보가 필요하다.-2040년, 서울 전체 주택 중 노후 물량 50%로 추정Ÿ때문에, 쾌적한 도시환경 구축을 위해서는 노후 기반시설로 인한 안전성 검토와 개선비용 증가에 따른 선제적인 대응이 필요하다.\n",
      "[그림 2-19] 서울시 전동킥보드 사고 추이자료: 서울시 소방재난본부\n",
      "제1절 서울의 변화진단379) 경직된 서울, 도시계획 규제 완화에 대한 요구 증대지역특성과 미래변화를 고려한 유연한 도시계획 요구Ÿ과도한 도시계획 규제로 인해, 미래 융복합 시대에' metadata={'author': 'SI', 'creationdate': '2024-12-12T18:16:11+09:00', 'creator': 'Hwp 2020 11.0.0.5178', 'moddate': '2024-12-12T18:16:11+09:00', 'page': 43, 'page_label': '44', 'pdfversion': '1.4', 'producer': 'Hancom PDF 1.3.0.542', 'source': '/Users/moonki/Desktop/gpt-agent/gpt_agent/chap09/data/2040_seoul_plan.pdf', 'total_pages': 205}\n",
      "page_content='54제2장 미래상과 목표\n",
      "5. 기술발전에 선제적 대응, ‘미래교통 인프라 구축’1) 배경미래교통수단 도입에 따른 도시 활동 변화 및 공간구조 재편 대비Ÿ빠르게 진화하는 미래 신 교통수단은 도시공간에 새로운 변화를 일으킬 것이며, 도시 내 이동패턴의 변화를 가져올 것으로 예측된다. 이러한 점을 고려하여 도시 내 다양한 통행행태가 공존하는 포용적인 교통체계 구축을 준비해야 한다.미래교통수단 정착을 위한 도시 인프라 확충지원 필요Ÿ기존에 없던 새로운 교통은 통상 인프라 구축에 많은 시간이 소요되기 때문에 교통수단이 도입된 이후에 준비하기보다는 개발단계에서부터 이를 지원하기 위한 교통인프라 구축 구상이 요구되며, 새로운 도시 인프라 확충에 대한 도시계획적 지원이 필요하다.2) 추진전략자율주행 자동차 본격 운영 체계 구축Ÿ자율주행은 현재 제일 가시화되고 있는 미래 교통기술로 시장의 주도권을 확보하기 위해 각국의 노력이 집중되고 있다. 단계적으로 2030년까지 간선도로급 이상 도로에서 운영할 수 있는 도로 인프라 환경을 조성하고, 2040년까지 서울 전역 자율주행 운행 환경 구축을 목표로 한다.-2040년까지 서울 전역 자율주행차량의 운행 환경을 구축하고 수송 분담률 10%를 달성서울형 도심 항공교통 기반 마련 및 터미널 확충Ÿ도심에서 김포공항까지 시범노선을 운영하는 등 상용화 노선을 확보하고, 장기적으로 한강, 지천 등 주요 수변 공간 중심으로 광역노선을 확보한다. 또한 UAM 인프라 확보를 위한 인센티브 및 도시계획적인 지원 방안도 함께 검토한다.-UAM 시범노선을 운영하고, 한강 등 주요 수변 공간 중심에 단계적 광역노선을 확장서울 전역에 모빌리티 허브 구축Ÿ도심 및 광역거점에 서울 내부와 외부의 연계를 위한 미래 교통과 기존 교통을 연결하는 시설을 도입한다. 또한 교통뿐 아니라 공공서비스, 물류, 상업 등 다양한 기능들이 복합적으로 제공되는 지역 거점 모빌리티 허브를 서울 전역에 도입한다.\n",
      "제3절 2040 서울도시기본계획 7대 목표55공중, 지상, 지하 등 다차원 신(新) 물류네트워크 구축Ÿ도심 내 물류 수요가 급격히 증가할 것에 대비하여, 공중 활용을 위한 드론 배' metadata={'author': 'SI', 'creationdate': '2024-12-12T18:16:11+09:00', 'creator': 'Hwp 2020 11.0.0.5178', 'moddate': '2024-12-12T18:16:11+09:00', 'page': 61, 'page_label': '62', 'pdfversion': '1.4', 'producer': 'Hancom PDF 1.3.0.542', 'source': '/Users/moonki/Desktop/gpt-agent/gpt_agent/chap09/data/2040_seoul_plan.pdf', 'total_pages': 205}\n",
      "page_content='제1절 서울의 변화진단353) 반복되는 팬데믹에 도시공간적 대응상수화되는 팬데믹, 회복탄력적 도시에 대한 관심 고조Ÿ2019년 발생한 코로나19에 의한 팬데믹은 서울시민의 일상생활을 마비시켰고 강제적인 거리두기 정책으로 경제위기가 심각해졌다.Ÿ전염병에 의한 팬데믹은 지속적으로 발생할 것으로 예측되고 있으며 이에 선제적인 예방 체계와 즉각적 대응을 위한 기반시설 구축이 필요하다.-물리적 기반의 기능 보완, 방역·방재 관련 시설 확충 등4) 기후위기에 대응하기 위한 지속가능한 도시 구축기후변화로 발생하는 자연재해로부터 안전한 도시 구축 필요Ÿ현재의 도시는 온실가스 증가로 인한 지표면·해수면 온도 상승으로 폭염, 한파 등 기후변화의 불확실성과 위험이 증가하고 있다.Ÿ때문에, 전 세계적으로 기후위기에 대응하기 위한 지속가능한 도시 구축의 필요성이 대두되고 있다.Ÿ서울시 온실가스 배출현황에 따르면, 상업과 가정 그리고 수송에서의 배출량이 약 84.1%에 달하고 있으며, 탄소중립 달성을 위해서는 도시계획적 대응이 필요한 실정이다.5) 심화되는 글로벌 경쟁심화되는 글로벌 도시 경쟁, 약화되는 수위도시 서울의 경쟁력Ÿ현재의 도시들은 기술의 발전과 글로벌화에 맞물려 규모와 상관없이 전 세계 도시들을 상대로 경쟁을 하는 글로벌 경쟁 속에서 도시 브랜딩을 통한 평판 제고를 도모하고 있다.Ÿ하지만, 지난 10년간 서울은 글로벌 파워도시, 세계도시경쟁력 지표 등에서 경제 영역의 순위가 낮아졌고 삶의 질 부문의 평가 역시 더 나아지지 않고 정체 중인 상황이다.Ÿ심화되는 글로벌 도시경쟁에 대응하여 서울의 미래 경쟁력을 확보하기 위해 지속가능한 산업 정책과 도시공간구조의 개편이 필요하다.\n",
      "[그림 2-18] 서울시 온실가스 배출현황자료: 서울시 온실가스 인벤토리 부분별 현황, 서울열린데이터광장\n",
      "36제2장 미래상과 목표\n",
      "6) 미래교통수단의 등장과 첨단 인프라 요구 증대자율주행, UAM 등 미래 교통에 공간적 대응방안 마련 필요Ÿ자율주행차량, 전동킥보드 등 교통 기술의 발전' metadata={'author': 'SI', 'creationdate': '2024-12-12T18:16:11+09:00', 'creator': 'Hwp 2020 11.0.0.5178', 'moddate': '2024-12-12T18:16:11+09:00', 'page': 42, 'page_label': '43', 'pdfversion': '1.4', 'producer': 'Hancom PDF 1.3.0.542', 'source': '/Users/moonki/Desktop/gpt-agent/gpt_agent/chap09/data/2040_seoul_plan.pdf', 'total_pages': 205}\n",
      "page_content='90제3장 부문별 전략계획\n",
      "5-1 미래교통수단과 융합을 위한 선제적 교통환경 구축5-1-1 신 교통수단·기술발전 등 미래 환경 변화에 대비한 인프라 구축·정비ŸUAM·전기차·자율주행차 등 미래교통수단의 상용' metadata={'author': 'SI', 'creationdate': '2024-12-12T18:16:11+09:00', 'creator': 'Hwp 2020 11.0.0.5178', 'moddate': '2024-12-12T18:16:11+09:00', 'page': 97, 'page_label': '98', 'pdfversion': '1.4', 'producer': 'Hancom PDF 1.3.0.542', 'source': '/Users/moonki/Desktop/gpt-agent/gpt_agent/chap09/data/2040_seoul_plan.pdf', 'total_pages': 205}\n",
      "page_content='따른 UAM, 자율주행, PM 등 미래교통수단의 효율적 정착을 위한 3차원 도시인프라를 확충한다.-자율주행 자동차 기반 구축, 서울형 도심항공 교통인프라 확보, 모빌리티 허브 및 3차원 물류체계 구축 등 도시인프라 확충을 위한 기반 마련 필요Ÿ신 교통수단과 기존 대중교통의 원활한 환승체계 구축을 위해 주요 거점에 광역형, 지역형, 근린형 등 중심지 위계에 따른 유형별 환승체계를 계획한다.\n",
      "108제4장 공간계획\n",
      "중심지명특성 및 육성방향\n",
      "용산\n",
      "서울도심·여의도와 연계한 한강 중심 국제업무중심지- 여의도의 공간 부족 및 금융 산업을 지원하기 위해 대규모 가용지인 용산정비창' metadata={'author': 'SI', 'creationdate': '2024-12-12T18:16:11+09:00', 'creator': 'Hwp 2020 11.0.0.5178', 'moddate': '2024-12-12T18:16:11+09:00', 'page': 114, 'page_label': '115', 'pdfversion': '1.4', 'producer': 'Hancom PDF 1.3.0.542', 'source': '/Users/moonki/Desktop/gpt-agent/gpt_agent/chap09/data/2040_seoul_plan.pdf', 'total_pages': 205}\n"
     ]
    }
   ],
   "source": [
    "grader_prompt = PromptTemplate.from_template(\"\"\"\n",
    "당신은 검색된 문서가 사용자 질문과 관련이 있는지 평가하는 평가자입니다. \\n \n",
    "문서에 사용자 질문과 관련된 키워드 또는 의미가 포함되어 있으면, 해당 문서를 관련성이 있다고 평가하십시오. \\n\n",
    "엄격한 테스트가 필요하지 않습니다. 목표는 잘못된 검색 결과를 걸러내는 것입니다. \\n\n",
    "문서가 질문과 관련이 있는지 여부를 나타내기 위해 'yes' 또는 'no'로 이진 점수를 부여하십시오.\n",
    "                                             \n",
    "Retrieved document: \\n {document} \\n\\n \n",
    "User question: {question}\n",
    "\"\"\")\n",
    "\n",
    "retrieval_grader = grader_prompt | structured_llm_grader\n",
    "question = \"서울시 자율주행 관련 계획\"\n",
    "documents = retriever.invoke(question)\n",
    "\n",
    "for doc in documents:\n",
    "    print(doc)"
   ]
  },
  {
   "cell_type": "code",
   "execution_count": 14,
   "metadata": {},
   "outputs": [
    {
     "name": "stdout",
     "output_type": "stream",
     "text": [
      "Document 1:\n",
      "binary_score='yes'\n",
      "36제2장 미래상과 목표\n",
      "6) 미래교통수단의 등장과 첨단 인프라 요구 증대자율주행, UAM 등 미래 교통에 공간적 대응방안 마련 필요Ÿ자율주행차량, 전동킥보드 등 교통 기술의 발전에 따라 새로운 교통환경이 조성되고 있음에도 불구하고, 이에 대한 정착 가이드라인이 없어, 위험한 교통 사고가 유발되고 있다.-최근 3년간 서울시에서 발생한 전동킥보드 관련 사고 \n",
      "=================================\n",
      "\n",
      "\n",
      "Document 2:\n",
      "binary_score='yes'\n",
      "54제2장 미래상과 목표\n",
      "5. 기술발전에 선제적 대응, ‘미래교통 인프라 구축’1) 배경미래교통수단 도입에 따른 도시 활동 변화 및 공간구조 재편 대비Ÿ빠르게 진화하는 미래 신 교통수단은 도시공간에 새로운 변화를 일으킬 것이며, 도시 내 이동패턴의 변화를 가져올 것으로 예측된다. 이러한 점을 고려하여 도시 내 다양한 통행행태가 공존하는 포용적인 교통체계 구\n",
      "=================================\n",
      "\n",
      "\n",
      "Document 3:\n",
      "binary_score='yes'\n",
      "제1절 서울의 변화진단353) 반복되는 팬데믹에 도시공간적 대응상수화되는 팬데믹, 회복탄력적 도시에 대한 관심 고조Ÿ2019년 발생한 코로나19에 의한 팬데믹은 서울시민의 일상생활을 마비시켰고 강제적인 거리두기 정책으로 경제위기가 심각해졌다.Ÿ전염병에 의한 팬데믹은 지속적으로 발생할 것으로 예측되고 있으며 이에 선제적인 예방 체계와 즉각적 대응을 위한 기반\n",
      "=================================\n",
      "\n",
      "\n",
      "Document 4:\n",
      "binary_score='yes'\n",
      "90제3장 부문별 전략계획\n",
      "5-1 미래교통수단과 융합을 위한 선제적 교통환경 구축5-1-1 신 교통수단·기술발전 등 미래 환경 변화에 대비한 인프라 구축·정비ŸUAM·전기차·자율주행차 등 미래교통수단의 상용\n",
      "=================================\n",
      "\n",
      "\n",
      "Document 5:\n",
      "binary_score='yes'\n",
      "따른 UAM, 자율주행, PM 등 미래교통수단의 효율적 정착을 위한 3차원 도시인프라를 확충한다.-자율주행 자동차 기반 구축, 서울형 도심항공 교통인프라 확보, 모빌리티 허브 및 3차원 물류체계 구축 등 도시인프라 확충을 위한 기반 마련 필요Ÿ신 교통수단과 기존 대중교통의 원활한 환승체계 구축을 위해 주요 거점에 광역형, 지역형, 근린형 등 중심지 위계에 \n",
      "=================================\n",
      "\n",
      "\n",
      "Filtered documents: 5\n"
     ]
    }
   ],
   "source": [
    "filtered_docs = []\n",
    "\n",
    "for i, doc in enumerate(documents):\n",
    "    print(f\"Document {i + 1}:\")\n",
    "    is_relevant = retrieval_grader.invoke({\"question\": question, \"document\": doc.page_content})\n",
    "    print(is_relevant)\n",
    "    print(doc.page_content[:200])\n",
    "    print(\"=================================\\n\\n\")\n",
    "\n",
    "    if is_relevant.binary_score == \"yes\":\n",
    "        filtered_docs.append(doc)\n",
    "\n",
    "print(f\"Filtered documents: {len(filtered_docs)}\")"
   ]
  },
  {
   "cell_type": "code",
   "execution_count": 15,
   "metadata": {},
   "outputs": [
    {
     "data": {
      "text/plain": [
       "AIMessage(content='서울시는 자율주행 차량과 같은 미래 교통수단의 효율적 정착을 위한 다양한 계획을 추진하고 있습니다. 주요 내용은 다음과 같습니다:\\n\\n1. **자율주행 인프라 구축**: 서울시는 2030년까지 간선도로급 이상의 도로에서 자율주행 차량이 운영될 수 있는 도로 인프라를 조성할 계획입니다. 2040년까지는 서울 전역에 자율주행 차량 운행 환경을 완비하여 수송 분담률을 10%까지 높이는 목표를 세우고 있습니다.\\n\\n2. **도시 항공 교통(UAM) 인프라**: 도심과 김포공항을 연결하는 시범 노선을 운영하고, 장기적으로 한강 및 주요 수변 지역을 중심으로 광역 노선을 확충할 예정입니다. UAM의 상용화를 위한 인센티브와 도시계획적 지원 방안도 동시에 검토하고 있습니다.\\n\\n3. **모빌리티 허브 구축**: 서울 전역에 미래 교통과 기존 교통을 연결하는 모빌리티 허브를 도입하여, 다양한 기능이 복합적으로 제공되는 지역 거점을 조성할 계획입니다. 이는 교통뿐 아니라 공공서비스, 물류, 상업 기능 등을 아우르는 공간으로 설계됩니다.\\n\\n4. **신교통수단과 기존 대중교통의 통합**: 자율주행, UAM 등 다양한 새로운 교통수단과 기존 대중교통 간의 원활한 환승 체계를 구축하기 위해, 주요 거점에 대한 유형별 환승 체계 계획도 진행됩니다.\\n\\n이러한 계획들은 서울시가 빠르게 변화하는 교통 환경에 적응하고, 시민들에게 보다 안전하고 효율적인 교통 서비스를 제공하기 위한 목적을 가지고 있습니다.', additional_kwargs={'refusal': None}, response_metadata={'token_usage': {'completion_tokens': 396, 'prompt_tokens': 3038, 'total_tokens': 3434, 'completion_tokens_details': {'accepted_prediction_tokens': 0, 'audio_tokens': 0, 'reasoning_tokens': 0, 'rejected_prediction_tokens': 0}, 'prompt_tokens_details': {'audio_tokens': 0, 'cached_tokens': 0}}, 'model_name': 'gpt-4o-mini-2024-07-18', 'system_fingerprint': 'fp_0392822090', 'id': 'chatcmpl-BX1KWdSIHVbZoW0TprcSEwILLeT9s', 'service_tier': 'default', 'finish_reason': 'stop', 'logprobs': None}, id='run--b4814e9b-f5bb-4a2d-84d2-d3ede4b7df4a-0', usage_metadata={'input_tokens': 3038, 'output_tokens': 396, 'total_tokens': 3434, 'input_token_details': {'audio': 0, 'cache_read': 0}, 'output_token_details': {'audio': 0, 'reasoning': 0}})"
      ]
     },
     "execution_count": 15,
     "metadata": {},
     "output_type": "execute_result"
    }
   ],
   "source": [
    "### Generate\n",
    "# PromptTemplate을 사용하여 RAG를 위한 프롬프트를 생성합니다.\n",
    "\n",
    "rag_generate_system = \"\"\"\n",
    "너는 사용자의 질문에 대해 주어진 context에 기반하여 답변하는 도시 계획 전문가이다. \n",
    "주어진 context는 vectorstore에서 검색된 결과이다. \n",
    "주어진 context를 기반으로 사용자의 question에 대해 답변하라.\n",
    "\n",
    "=================================\n",
    "question: {question}\n",
    "context: {context}\n",
    "\"\"\"\n",
    "\n",
    "# PromptTemplate을 생성하여 question과 context를 포맷팅\n",
    "rag_prompt = PromptTemplate(\n",
    "    input_variables=[\"question\", \"context\"],\n",
    "    template=rag_generate_system\n",
    ")\n",
    "\n",
    "# rag chain\n",
    "rag_chain = rag_prompt | model \n",
    "\n",
    "# 사용자 질문과 검색된 문서를 입력으로 사용하여 RAG를 실행\n",
    "question = \"서울시 자율주행 관련 계획\"\n",
    "\n",
    "rag_chain.invoke({\"question\": question, \"context\": filtered_docs})"
   ]
  },
  {
   "cell_type": "code",
   "execution_count": 16,
   "metadata": {},
   "outputs": [],
   "source": [
    "from typing import List\n",
    "from typing_extensions import TypedDict\n",
    "\n",
    "class GraphState(TypedDict):\n",
    "    question: str   # 사용자 질문\n",
    "    generation: str # LLM 생성 결과\n",
    "    documents: List[str] # 검색된 문서"
   ]
  },
  {
   "cell_type": "code",
   "execution_count": 17,
   "metadata": {},
   "outputs": [],
   "source": [
    "def route_question(state): \n",
    "    \"\"\"\n",
    "    사용자 질문을 vectorstore 또는 casual_talk로 라우팅합니다.\n",
    "    \n",
    "    Args:\n",
    "        state (dict): 현재 graph state\n",
    "\n",
    "    return:\n",
    "        state (dict): 라우팅된 데이터 소스와 사용자 질문을 포함하는 새로운 graph state\n",
    "    \"\"\"\n",
    "    print('------ROUTE------')\n",
    "    question = state['question']\n",
    "    route = question_router.invoke({\"question\": question})\n",
    "\n",
    "    \n",
    "    print(f\"---Routing to {route.datasource}---\")\n",
    "    return route.datasource   "
   ]
  },
  {
   "cell_type": "code",
   "execution_count": 18,
   "metadata": {},
   "outputs": [],
   "source": [
    "def retrieve(state): \n",
    "    \"\"\"\n",
    "    vectorstore에서 질문에 대한 문서를 검색합니다.\n",
    "    \n",
    "    Args:\n",
    "        state (dict): 현재 graph state\n",
    "\n",
    "    return:\n",
    "        state (dict): 검색된 문서와 사용자 질문을 포함하는 새로운 graph state\n",
    "    \"\"\"\n",
    "    print('------RETRIEVE------')\n",
    "    question = state['question']\n",
    "\n",
    "    # Retrieve documents\n",
    "    documents = retriever.invoke(question)\n",
    "    return {\"documents\": documents, \"question\": question}\n"
   ]
  },
  {
   "cell_type": "code",
   "execution_count": 19,
   "metadata": {},
   "outputs": [],
   "source": [
    "def grade_documents(state):\n",
    "    \"\"\"\n",
    "    검색된 문서를 평가하여 질문과 관련성이 있는지 확인합니다.\n",
    "\n",
    "    Args:\n",
    "        state (dict): 현재 graph state\n",
    "\n",
    "    return:\n",
    "        state (dict): 관련성이 있는 문서와 사용자 질문을 포함하는 새로운 graph state\n",
    "    \"\"\"\n",
    "    print('------GRADE------')\n",
    "    question = state['question']\n",
    "    documents = state['documents']\n",
    "    filtered_docs = []\n",
    "\n",
    "    for i, doc in enumerate(documents):\n",
    "        is_relevant = retrieval_grader.invoke({\"question\": question, \"document\": doc.page_content})\n",
    "        if is_relevant.binary_score == \"yes\":\n",
    "            filtered_docs.append(doc)\n",
    "    return {\"documents\": filtered_docs, \"question\": question}  "
   ]
  },
  {
   "cell_type": "code",
   "execution_count": 20,
   "metadata": {},
   "outputs": [],
   "source": [
    "def generate(state):\n",
    "    \"\"\"\n",
    "    LLM을 사용하여 문서와 사용자 질문에 대한 답변을 생성합니다.\n",
    "\n",
    "    Args:\n",
    "        state (dict): 현재 graph state\n",
    "\n",
    "    return:\n",
    "        state (dict): LLM 생성 결과와 사용자 질문을 포함하는 새로운 graph state\n",
    "    \"\"\"\n",
    "    print('------GENERATE------')\n",
    "    question = state['question']\n",
    "    documents = state['documents']\n",
    "    generation = rag_chain.invoke({\"question\": question, \"context\": documents})\n",
    "    return {\n",
    "        \"documents\": documents,\n",
    "        \"question\": question,\n",
    "        \"generation\": generation\n",
    "    }"
   ]
  },
  {
   "cell_type": "code",
   "execution_count": 21,
   "metadata": {},
   "outputs": [],
   "source": [
    "def casual_talk(state):\n",
    "    \"\"\"\n",
    "    일상 대화를 위한 답변을 생성합니다.\n",
    "\n",
    "    Args:\n",
    "        state (dict): 현재 graph state\n",
    "\n",
    "    return:\n",
    "        state (dict): 일상 대화 결과와 사용자 질문을 포함하는 새로운 graph state\n",
    "    \"\"\"\n",
    "    print('------CASUAL TALK------')\n",
    "    question = state['question']\n",
    "    generation = model.invoke(question)\n",
    "    return {\n",
    "        \"question\": question,\n",
    "        \"generation\": generation\n",
    "    }"
   ]
  },
  {
   "cell_type": "code",
   "execution_count": 22,
   "metadata": {},
   "outputs": [],
   "source": [
    "from langgraph.graph import START, StateGraph, END\n",
    "\n",
    "workflow = StateGraph(GraphState)"
   ]
  },
  {
   "cell_type": "code",
   "execution_count": 23,
   "metadata": {},
   "outputs": [
    {
     "data": {
      "text/plain": [
       "<langgraph.graph.state.StateGraph at 0x122b6f140>"
      ]
     },
     "execution_count": 23,
     "metadata": {},
     "output_type": "execute_result"
    }
   ],
   "source": [
    "# 노드를 정의 \n",
    "workflow.add_node(\"retrieve\", retrieve)\n",
    "workflow.add_node(\"grade_documents\", grade_documents)\n",
    "workflow.add_node(\"generate\", generate)\n",
    "workflow.add_node(\"casual_talk\", casual_talk)"
   ]
  },
  {
   "cell_type": "code",
   "execution_count": 24,
   "metadata": {},
   "outputs": [],
   "source": [
    "# graph를 정의\n",
    "workflow.add_conditional_edges(\n",
    "    START, \n",
    "    route_question,\n",
    "    {\n",
    "        \"vectorstore\": \"retrieve\",\n",
    "        \"casual_talk\": \"casual_talk\"\n",
    "    }\n",
    ")\n",
    "workflow.add_edge(\"casual_talk\", END)\n",
    "workflow.add_edge(\"retrieve\", \"grade_documents\")\n",
    "workflow.add_edge(\"grade_documents\", \"generate\")\n",
    "workflow.add_edge(\"generate\", END)\n",
    "\n",
    "app = workflow.compile() # workflow를 컴파일"
   ]
  },
  {
   "cell_type": "code",
   "execution_count": 25,
   "metadata": {},
   "outputs": [
    {
     "data": {
      "image/png": "[encoded data removed]",
      "text/plain": [
       "<IPython.core.display.Image object>"
      ]
     },
     "metadata": {},
     "output_type": "display_data"
    }
   ],
   "source": [
    "from IPython.display import Image, display\n",
    "\n",
    "try:\n",
    "    display(Image(app.get_graph().draw_mermaid_png()))\n",
    "except Exception:\n",
    "    #  실패 시 통과\n",
    "    pass\n"
   ]
  },
  {
   "cell_type": "code",
   "execution_count": 26,
   "metadata": {},
   "outputs": [
    {
     "name": "stdout",
     "output_type": "stream",
     "text": [
      "------ROUTE------\n",
      "---Routing to vectorstore---\n",
      "------RETRIEVE------\n",
      "------GRADE------\n",
      "------GENERATE------\n"
     ]
    },
    {
     "data": {
      "text/plain": [
       "{'question': '서울시 자율주행 계획',\n",
       " 'generation': AIMessage(content='서울시는 미래 교통수단의 도입 및 이에 대한 인프라 구축을 통해 자율주행차량과 같은 새로운 교통 수단을 적극적으로 수용하고 있습니다. 서울시의 자율주행 계획의 주요 목표는 2040년까지 도시 전역에서 자율주행 차량이 운행될 수 있는 환경을 구축하는 것입니다. 이 계획은 다음과 같은 내용을 포함합니다:\\n\\n1. **자율주행 운영 체계 구축**: 2030년까지는 간선도로급 이상 도로에서 자율주행차량이 운영될 수 있는 인프라를 조성하고, 2040년까지 서울 전역에서 자율주행차량이 운행될 수 있도록 할 계획입니다.\\n\\n2. **수송 분담률 목표 설정**: 자율주행차의 수송 분담률을 10%로 설정하고, 이를 달성하기 위한 다양한 노력과 인프라 개발이 필요합니다.\\n\\n3. **모빌리티 허브 구축**: 서울 전역에 걸쳐 다양한 교통 수단과 서비스를 통합하여 연결할 수 있는 모빌리티 허브를 도입하고, 이를 통해 공공 서비스, 물류 및 상업적 기능이 함께 제공되도록 설계합니다.\\n\\n4. **도심 항공교통(UAM) 기반 마련**: 교통수단 확장을 위해 도심과 공항을 연결하는 시범노선 운영 및 장기적으로 주요 수변 공간을 중심으로 한 광역노선 확보를 목표로 하고 있습니다.\\n\\n서울시는 이러한 계획을 통해 자율주행차와 같은 미래교통수단의 정착을 위한 통합적이고 포용적인 교통 체계를 구축하고, 도시 내 이동 패턴의 변화를 효과적으로 관리하고자 합니다.', additional_kwargs={'refusal': None}, response_metadata={'token_usage': {'completion_tokens': 383, 'prompt_tokens': 2657, 'total_tokens': 3040, 'completion_tokens_details': {'accepted_prediction_tokens': 0, 'audio_tokens': 0, 'reasoning_tokens': 0, 'rejected_prediction_tokens': 0}, 'prompt_tokens_details': {'audio_tokens': 0, 'cached_tokens': 0}}, 'model_name': 'gpt-4o-mini-2024-07-18', 'system_fingerprint': 'fp_0392822090', 'id': 'chatcmpl-BX1Mqvjdqek5sUTkcVWRscDdlzjrv', 'service_tier': 'default', 'finish_reason': 'stop', 'logprobs': None}, id='run--5b85abff-44b8-433c-ac0d-6c16ab20cde4-0', usage_metadata={'input_tokens': 2657, 'output_tokens': 383, 'total_tokens': 3040, 'input_token_details': {'audio': 0, 'cache_read': 0}, 'output_token_details': {'audio': 0, 'reasoning': 0}}),\n",
       " 'documents': [Document(id='bca65fce-0f06-4c2a-9972-7547276a2742', metadata={'author': 'SI', 'creationdate': '2024-12-12T18:16:11+09:00', 'creator': 'Hwp 2020 11.0.0.5178', 'moddate': '2024-12-12T18:16:11+09:00', 'page': 43, 'page_label': '44', 'pdfversion': '1.4', 'producer': 'Hancom PDF 1.3.0.542', 'source': '/Users/moonki/Desktop/gpt-agent/gpt_agent/chap09/data/2040_seoul_plan.pdf', 'total_pages': 205}, page_content='36제2장 미래상과 목표\\n6) 미래교통수단의 등장과 첨단 인프라 요구 증대자율주행, UAM 등 미래 교통에 공간적 대응방안 마련 필요Ÿ자율주행차량, 전동킥보드 등 교통 기술의 발전에 따라 새로운 교통환경이 조성되고 있음에도 불구하고, 이에 대한 정착 가이드라인이 없어, 위험한 교통 사고가 유발되고 있다.-최근 3년간 서울시에서 발생한 전동킥보드 관련 사고 대다수는 전동 킥보드와 차량 간 충돌 사고Ÿ안전하고 효율적인 기존-신규 교통수단의 조화를 도모하고, 이와 함께 발생할 도시공간구조 변화에 대비하기 위해 통합적인 교통수단 정착 가이드라인이 필요하다.7) 시가지 공간의 포화, 개발가용지의 부족새로운 도시공간에 대한 수요 대응과 성장동력 확보 한계Ÿ서울의 녹지지역을 제외한 대부분의 개발가용지는 고갈된 상태이며, 남은 공간은 주택공급을 위주로 개발하고 있다.-서울시에서 개발제한구역 25%를 제외하면 65%에 해당하는 시가화면적 366㎢ 중 미개발지는 거의 없는 상태Ÿ외연적 팽창이 아닌, 선택과 집중을 통한 콤팩트 시티로의 공간구조 재편을 지향하고 복합 개발을 통해 약해진 도시경쟁력 강화가 필요한 시점이다.8) 늙어가는 서울, 도시 정비의 정체에 따른 환경 악화정비사업 추진동력 저하, 쾌적한 도시환경에 대한 요구 증대Ÿ2038년 서울시 기반시설 노후화 비율은 2018년 대비 2.7배 급증, 1960~70년대 집중 조성된 기반시설의 노후화에 따른 시설 안전성 확보가 필요하다.-2040년, 서울 전체 주택 중 노후 물량 50%로 추정Ÿ때문에, 쾌적한 도시환경 구축을 위해서는 노후 기반시설로 인한 안전성 검토와 개선비용 증가에 따른 선제적인 대응이 필요하다.\\n[그림 2-19] 서울시 전동킥보드 사고 추이자료: 서울시 소방재난본부\\n제1절 서울의 변화진단379) 경직된 서울, 도시계획 규제 완화에 대한 요구 증대지역특성과 미래변화를 고려한 유연한 도시계획 요구Ÿ과도한 도시계획 규제로 인해, 미래 융복합 시대에'),\n",
       "  Document(id='639b8795-327b-45f0-bbbe-3d68ca09a05c', metadata={'author': 'SI', 'creationdate': '2024-12-12T18:16:11+09:00', 'creator': 'Hwp 2020 11.0.0.5178', 'moddate': '2024-12-12T18:16:11+09:00', 'page': 61, 'page_label': '62', 'pdfversion': '1.4', 'producer': 'Hancom PDF 1.3.0.542', 'source': '/Users/moonki/Desktop/gpt-agent/gpt_agent/chap09/data/2040_seoul_plan.pdf', 'total_pages': 205}, page_content='54제2장 미래상과 목표\\n5. 기술발전에 선제적 대응, ‘미래교통 인프라 구축’1) 배경미래교통수단 도입에 따른 도시 활동 변화 및 공간구조 재편 대비Ÿ빠르게 진화하는 미래 신 교통수단은 도시공간에 새로운 변화를 일으킬 것이며, 도시 내 이동패턴의 변화를 가져올 것으로 예측된다. 이러한 점을 고려하여 도시 내 다양한 통행행태가 공존하는 포용적인 교통체계 구축을 준비해야 한다.미래교통수단 정착을 위한 도시 인프라 확충지원 필요Ÿ기존에 없던 새로운 교통은 통상 인프라 구축에 많은 시간이 소요되기 때문에 교통수단이 도입된 이후에 준비하기보다는 개발단계에서부터 이를 지원하기 위한 교통인프라 구축 구상이 요구되며, 새로운 도시 인프라 확충에 대한 도시계획적 지원이 필요하다.2) 추진전략자율주행 자동차 본격 운영 체계 구축Ÿ자율주행은 현재 제일 가시화되고 있는 미래 교통기술로 시장의 주도권을 확보하기 위해 각국의 노력이 집중되고 있다. 단계적으로 2030년까지 간선도로급 이상 도로에서 운영할 수 있는 도로 인프라 환경을 조성하고, 2040년까지 서울 전역 자율주행 운행 환경 구축을 목표로 한다.-2040년까지 서울 전역 자율주행차량의 운행 환경을 구축하고 수송 분담률 10%를 달성서울형 도심 항공교통 기반 마련 및 터미널 확충Ÿ도심에서 김포공항까지 시범노선을 운영하는 등 상용화 노선을 확보하고, 장기적으로 한강, 지천 등 주요 수변 공간 중심으로 광역노선을 확보한다. 또한 UAM 인프라 확보를 위한 인센티브 및 도시계획적인 지원 방안도 함께 검토한다.-UAM 시범노선을 운영하고, 한강 등 주요 수변 공간 중심에 단계적 광역노선을 확장서울 전역에 모빌리티 허브 구축Ÿ도심 및 광역거점에 서울 내부와 외부의 연계를 위한 미래 교통과 기존 교통을 연결하는 시설을 도입한다. 또한 교통뿐 아니라 공공서비스, 물류, 상업 등 다양한 기능들이 복합적으로 제공되는 지역 거점 모빌리티 허브를 서울 전역에 도입한다.\\n제3절 2040 서울도시기본계획 7대 목표55공중, 지상, 지하 등 다차원 신(新) 물류네트워크 구축Ÿ도심 내 물류 수요가 급격히 증가할 것에 대비하여, 공중 활용을 위한 드론 배'),\n",
       "  Document(id='6452d68f-18fa-4e0a-b240-14ed022202b6', metadata={'author': 'SI', 'creationdate': '2024-12-12T18:16:11+09:00', 'creator': 'Hwp 2020 11.0.0.5178', 'moddate': '2024-12-12T18:16:11+09:00', 'page': 97, 'page_label': '98', 'pdfversion': '1.4', 'producer': 'Hancom PDF 1.3.0.542', 'source': '/Users/moonki/Desktop/gpt-agent/gpt_agent/chap09/data/2040_seoul_plan.pdf', 'total_pages': 205}, page_content='90제3장 부문별 전략계획\\n5-1 미래교통수단과 융합을 위한 선제적 교통환경 구축5-1-1 신 교통수단·기술발전 등 미래 환경 변화에 대비한 인프라 구축·정비ŸUAM·전기차·자율주행차 등 미래교통수단의 상용'),\n",
       "  Document(id='c06a0ab0-a9ee-42ba-a4d6-2596e0ed4e51', metadata={'author': 'SI', 'creationdate': '2024-12-12T18:16:11+09:00', 'creator': 'Hwp 2020 11.0.0.5178', 'moddate': '2024-12-12T18:16:11+09:00', 'page': 42, 'page_label': '43', 'pdfversion': '1.4', 'producer': 'Hancom PDF 1.3.0.542', 'source': '/Users/moonki/Desktop/gpt-agent/gpt_agent/chap09/data/2040_seoul_plan.pdf', 'total_pages': 205}, page_content='제1절 서울의 변화진단353) 반복되는 팬데믹에 도시공간적 대응상수화되는 팬데믹, 회복탄력적 도시에 대한 관심 고조Ÿ2019년 발생한 코로나19에 의한 팬데믹은 서울시민의 일상생활을 마비시켰고 강제적인 거리두기 정책으로 경제위기가 심각해졌다.Ÿ전염병에 의한 팬데믹은 지속적으로 발생할 것으로 예측되고 있으며 이에 선제적인 예방 체계와 즉각적 대응을 위한 기반시설 구축이 필요하다.-물리적 기반의 기능 보완, 방역·방재 관련 시설 확충 등4) 기후위기에 대응하기 위한 지속가능한 도시 구축기후변화로 발생하는 자연재해로부터 안전한 도시 구축 필요Ÿ현재의 도시는 온실가스 증가로 인한 지표면·해수면 온도 상승으로 폭염, 한파 등 기후변화의 불확실성과 위험이 증가하고 있다.Ÿ때문에, 전 세계적으로 기후위기에 대응하기 위한 지속가능한 도시 구축의 필요성이 대두되고 있다.Ÿ서울시 온실가스 배출현황에 따르면, 상업과 가정 그리고 수송에서의 배출량이 약 84.1%에 달하고 있으며, 탄소중립 달성을 위해서는 도시계획적 대응이 필요한 실정이다.5) 심화되는 글로벌 경쟁심화되는 글로벌 도시 경쟁, 약화되는 수위도시 서울의 경쟁력Ÿ현재의 도시들은 기술의 발전과 글로벌화에 맞물려 규모와 상관없이 전 세계 도시들을 상대로 경쟁을 하는 글로벌 경쟁 속에서 도시 브랜딩을 통한 평판 제고를 도모하고 있다.Ÿ하지만, 지난 10년간 서울은 글로벌 파워도시, 세계도시경쟁력 지표 등에서 경제 영역의 순위가 낮아졌고 삶의 질 부문의 평가 역시 더 나아지지 않고 정체 중인 상황이다.Ÿ심화되는 글로벌 도시경쟁에 대응하여 서울의 미래 경쟁력을 확보하기 위해 지속가능한 산업 정책과 도시공간구조의 개편이 필요하다.\\n[그림 2-18] 서울시 온실가스 배출현황자료: 서울시 온실가스 인벤토리 부분별 현황, 서울열린데이터광장\\n36제2장 미래상과 목표\\n6) 미래교통수단의 등장과 첨단 인프라 요구 증대자율주행, UAM 등 미래 교통에 공간적 대응방안 마련 필요Ÿ자율주행차량, 전동킥보드 등 교통 기술의 발전')]}"
      ]
     },
     "execution_count": 26,
     "metadata": {},
     "output_type": "execute_result"
    }
   ],
   "source": [
    "inputs = {\n",
    "    \"question\": \"서울시 자율주행 계획\"\n",
    "}\n",
    "\n",
    "app.invoke(inputs) # workflow를 실행합니다.\n"
   ]
  },
  {
   "cell_type": "code",
   "execution_count": 27,
   "metadata": {},
   "outputs": [
    {
     "name": "stdout",
     "output_type": "stream",
     "text": [
      "------ROUTE------\n",
      "---Routing to casual_talk---\n",
      "------CASUAL TALK------\n"
     ]
    },
    {
     "data": {
      "text/plain": [
       "{'question': '잘 지내고 있어? 내 이름 기억 나?',\n",
       " 'generation': AIMessage(content='안녕하세요! 저는 내용을 기억하지 못하지만, 당신과의 대화를 돕기 위해 여기 있습니다. 어떻게 도와드릴까요?', additional_kwargs={'refusal': None}, response_metadata={'token_usage': {'completion_tokens': 30, 'prompt_tokens': 18, 'total_tokens': 48, 'completion_tokens_details': {'accepted_prediction_tokens': 0, 'audio_tokens': 0, 'reasoning_tokens': 0, 'rejected_prediction_tokens': 0}, 'prompt_tokens_details': {'audio_tokens': 0, 'cached_tokens': 0}}, 'model_name': 'gpt-4o-mini-2024-07-18', 'system_fingerprint': 'fp_dbaca60df0', 'id': 'chatcmpl-BX1N8tsB3453FoLkT4HXCfTbLaG3E', 'service_tier': 'default', 'finish_reason': 'stop', 'logprobs': None}, id='run--d1d8e879-2e71-415b-b08a-db7ecc8305e3-0', usage_metadata={'input_tokens': 18, 'output_tokens': 30, 'total_tokens': 48, 'input_token_details': {'audio': 0, 'cache_read': 0}, 'output_token_details': {'audio': 0, 'reasoning': 0}})}"
      ]
     },
     "execution_count": 27,
     "metadata": {},
     "output_type": "execute_result"
    }
   ],
   "source": [
    "inputs = {\n",
    "    \"question\": \"잘 지내고 있어? 내 이름 기억 나?\"\n",
    "}\n",
    "\n",
    "app.invoke(inputs) # workflow를 실행합니다."
   ]
  },
  {
   "cell_type": "code",
   "execution_count": 28,
   "metadata": {},
   "outputs": [
    {
     "name": "stdout",
     "output_type": "stream",
     "text": [
      "------ROUTE------\n",
      "{\"datasource\":\"vectorstore\"}---Routing to vectorstore---\n",
      "------RETRIEVE------\n",
      "------GRADE------\n",
      "{\"binary_score\":\"yes\"}{\"binary_score\":\"yes\"}{\"binary_score\":\"yes\"}{\"binary_score\":\"yes\"}{\"binary_score\":\"yes\"}------GENERATE------\n",
      "서울시의 부동산 관련 계획은 주로 2040 수도권 광역도시계획과 서울시 지역균형발전계획, 그리고 주택·정비 부문에서 구체화되고 있습니다.\n",
      "\n",
      "1. **2040 수도권 광역도시계획**: 서울시, 인천시, 경기도가 함께 수립 중인 이 계획은 \"살기 좋고 국제경쟁력을 갖춘 상생·통합의 수도권\"을 비전으로 하고 있습니다. 이 계획은 토지이용, 광역교통, 녹지환경 등 다양한 부문별 기본 방향과 추진과제를 설정하고 있습니다.\n",
      "\n",
      "2. **서울시 지역균형발전계획**: 이 계획은 서울시 내 지역 간 격차 해소를 위한 5대 전략을 설정하고, 각 지역의 특성에 맞춘 산업 및 일자리 기반 조성을 목표로 하고 있습니다. 주거환경 개선, 평등한 교육 기회 제공 등도 포함되어 있습니다.\n",
      "\n",
      "3. **주택 공급 확대**: 서울시는 양질의 주택 공급을 위한 다양한 도시계획적 수단을 도입하고 있습니다. 저이용·유휴지를 활용하여 주택 공급을 활성화하고, 공공임대주택 및 민간 참여를 통한 주택 공급을 늘리는 방안을 추진하고 있습니다.\n",
      "\n",
      "4. **스마트 주거 환경 조성**: 기술 발전에 따른 디지털 전환을 감안하여, 주거 환경의 미래를 대비하는 스마트 주택 개발을 추진하고 있습니다.\n",
      "\n",
      "이와 같은 계획들은 서울시의 부동산 시장을 더욱 안정적으로 만들고, 지역균형 발전을 도모하기 위한 방향성을 가지고 있습니다."
     ]
    }
   ],
   "source": [
    "inputs = {\n",
    "    \"question\": \"서울시의 부동산 관련 계획은 무엇이 있나요?\"\n",
    "}\n",
    "\n",
    "for msg, meta in app.stream(inputs, stream_mode='messages'):\n",
    "    print(msg.content, end='')"
   ]
  },
  {
   "cell_type": "code",
   "execution_count": null,
   "metadata": {},
   "outputs": [],
   "source": []
  }
 ],
 "metadata": {
  "kernelspec": {
   "display_name": "venv",
   "language": "python",
   "name": "python3"
  },
  "language_info": {
   "codemirror_mode": {
    "name": "ipython",
    "version": 3
   },
   "file_extension": ".py",
   "mimetype": "text/x-python",
   "name": "python",
   "nbconvert_exporter": "python",
   "pygments_lexer": "ipython3",
   "version": "3.12.9"
  }
 },
 "nbformat": 4,
 "nbformat_minor": 2
}
